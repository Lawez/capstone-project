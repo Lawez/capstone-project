{
 "cells": [
  {
   "attachments": {},
   "cell_type": "markdown",
   "metadata": {},
   "source": [
    "## Modelling"
   ]
  },
  {
   "cell_type": "code",
   "execution_count": null,
   "metadata": {},
   "outputs": [],
   "source": [
    "import pandas as pd\n",
    "import numpy as np\n",
    "import matplotlib.pyplot as plt\n",
    "import seaborn as sns\n",
    "import phik\n",
    "from sklearn.model_selection import train_test_split, cross_val_score, RandomizedSearchCV, GridSearchCV\n",
    "from sklearn.metrics import mean_squared_error\n",
    "from sklearn.preprocessing import OrdinalEncoder, Normalizer\n",
    "from sklearn.impute import SimpleImputer\n",
    "from sklearn.compose import ColumnTransformer\n",
    "from sklearn.pipeline import Pipeline\n",
    "from sklearn.neighbors import KNeighborsRegressor\n",
    "from sklearn.tree import DecisionTreeRegressor\n",
    "from sklearn.ensemble import RandomForestRegressor, GradientBoostingRegressor"
   ]
  },
  {
   "cell_type": "code",
   "execution_count": null,
   "metadata": {},
   "outputs": [],
   "source": [
    "regressors = [\n",
    "    KNeighborsRegressor(), \n",
    "    DecisionTreeRegressor(), \n",
    "    RandomForestRegressor(), \n",
    "    GradientBoostingRegressor()\n",
    "]\n",
    "\n",
    "models = []\n",
    "scores = []\n",
    "\n",
    "for regressor in regressors:\n",
    "    steps = [\n",
    "        ('preprocess', preprocessor),\n",
    "        ('reg', regressor)\n",
    "    ]\n",
    "    pipeline = Pipeline(steps)\n",
    "    scorer = cross_val_score(\n",
    "        pipeline, \n",
    "        X_train, \n",
    "        y_train, \n",
    "        cv=5,\n",
    "        scoring='neg_mean_squared_error', \n",
    "        n_jobs=-1\n",
    "    )\n",
    "    models.append(str(regressor))\n",
    "    scores.append(scorer.mean())\n",
    "\n",
    "plt.figure(figsize=(10,5))\n",
    "plt.barh(models, scores)\n",
    "plt.show();"
   ]
  },
  {
   "cell_type": "code",
   "execution_count": null,
   "metadata": {},
   "outputs": [],
   "source": [
    "loss = ['quantile', 'squared_error', 'absolute_error', 'huber']\n",
    "max_features = ['sqrt', 'log2', None]\n",
    "n_estimators = [int(x) for x in np.linspace(start = 50, stop = 300, num = 15)]\n",
    "max_depth = [int(x) for x in np.linspace(start = 1, stop = 15, num = 15)]\n",
    "min_samples_split = [int(x) for x in np.linspace(start = 2, stop = 50, num = 15)]\n",
    "min_samples_leaf = [int(x) for x in np.linspace(start = 2, stop = 50, num = 15)]\n",
    "\n",
    "hyperparameter_grid = {\n",
    "    'reg__loss': loss,\n",
    "    'reg__max_features': max_features,\n",
    "    'reg__n_estimators': n_estimators,\n",
    "    'reg__max_depth': max_depth,\n",
    "    'reg__min_samples_split': min_samples_split,\n",
    "    'reg__min_samples_leaf': min_samples_leaf\n",
    "}\n",
    "\n",
    "random_cv = RandomizedSearchCV(\n",
    "    estimator=pipeline,\n",
    "    param_distributions=hyperparameter_grid,\n",
    "    cv=3,\n",
    "    n_iter=200,\n",
    "    scoring='neg_mean_squared_error',\n",
    "    n_jobs=-1,\n",
    "    verbose=1,\n",
    "    return_train_score=True,\n",
    "    random_state=state\n",
    ")\n",
    "\n",
    "random_cv.fit(X_train, y_train)\n",
    "\n",
    "print()\n",
    "print('Best params:')\n",
    "print(random_cv.best_params_)\n",
    "print()\n",
    "print('Best score:', random_cv.best_score_)"
   ]
  },
  {
   "cell_type": "code",
   "execution_count": null,
   "metadata": {},
   "outputs": [],
   "source": [
    "rs_df = pd.DataFrame(random_cv.cv_results_).sort_values('rank_test_score').reset_index(drop=True)\n",
    "rs_df.loc[rs_df['param_reg__max_features'].isna(), 'param_reg__max_features'] = 'None'\n",
    "\n",
    "cols = [\n",
    "    'param_reg__loss', \n",
    "    'param_reg__max_features',\n",
    "    'param_reg__n_estimators',\n",
    "    'param_reg__max_depth',\n",
    "    'param_reg__min_samples_split',\n",
    "    'param_reg__min_samples_leaf'\n",
    "]\n",
    "pref = 'param_reg__'\n",
    "\n",
    "fig, axs = plt.subplots(ncols=2, nrows=3)\n",
    "fig.set_size_inches(30,25)\n",
    "sns.set(font_scale=2)\n",
    "color = 'lightblue'\n",
    "i = 0\n",
    "j = 0\n",
    "\n",
    "for col in cols:\n",
    "    sns.barplot(\n",
    "        x=col,\n",
    "        y='mean_test_score', \n",
    "        data=rs_df, \n",
    "        ax=axs[i,j], \n",
    "        color=color\n",
    "    )\n",
    "    axs[i,j].set_title(\n",
    "        label=col.replace(pref, ''), \n",
    "        size=30, \n",
    "        weight='bold'\n",
    "    )\n",
    "    axs[i,j].set_xlabel('')\n",
    "    j += 1\n",
    "    if j == 2:\n",
    "        i += 1\n",
    "        j = 0"
   ]
  },
  {
   "cell_type": "code",
   "execution_count": null,
   "metadata": {},
   "outputs": [],
   "source": [
    "loss = ['absolute_error']\n",
    "max_features = ['log2', None]\n",
    "n_estimators = range(45, 55)\n",
    "max_depth = range(1, 6)\n",
    "min_samples_split = range(2, 9, 2)\n",
    "min_samples_leaf = range(2, 9, 2)\n",
    "\n",
    "hyperparameter_grid = {\n",
    "    'reg__loss': loss,\n",
    "    'reg__max_features': max_features,\n",
    "    'reg__n_estimators': n_estimators,\n",
    "    'reg__max_depth': max_depth,\n",
    "    'reg__min_samples_split': min_samples_split,\n",
    "    'reg__min_samples_leaf': min_samples_leaf\n",
    "}\n",
    "\n",
    "grid_cv = GridSearchCV(\n",
    "    estimator=pipeline,\n",
    "    param_grid=hyperparameter_grid,\n",
    "    cv=3, \n",
    "    scoring='neg_mean_squared_error',\n",
    "    verbose=1,\n",
    "    n_jobs=-1\n",
    ")\n",
    "\n",
    "grid_cv.fit(X_train, y_train)\n",
    "best_params = grid_cv.best_params_\n",
    "\n",
    "print()\n",
    "print('Best params:')\n",
    "print(best_params)\n",
    "print()\n",
    "print('Best score:', grid_cv.best_score_)"
   ]
  },
  {
   "cell_type": "code",
   "execution_count": null,
   "metadata": {
    "vscode": {
     "languageId": "plaintext"
    }
   },
   "outputs": [],
   "source": [
    "import pandas as pd\n",
    "\n",
    "# Concatenate df1 and the selected columns from df2 horizontally\n",
    "df3= pd.concat([df1, df2], axis=1)\n",
    "\n",
    "# Fill NaN values with appropriate values if needed\n",
    "#df1.fillna({'Weather Conditions': 'Unknown', 'Calories Group': 'Unknown', 'Age group': 'Unknown', 'Weight Category': 'Unknown'}, inplace=True)\n",
    "df3"
   ]
  },
  {
   "cell_type": "code",
   "execution_count": null,
   "metadata": {
    "vscode": {
     "languageId": "plaintext"
    }
   },
   "outputs": [],
   "source": [
    "df3.drop(['Age', 'Calories Burn', 'BMI', 'Duration'], axis=1)\n"
   ]
  },
  {
   "cell_type": "code",
   "execution_count": null,
   "metadata": {
    "vscode": {
     "languageId": "plaintext"
    }
   },
   "outputs": [],
   "source": [
    "display(check_missing_values(df3))"
   ]
  },
  {
   "cell_type": "code",
   "execution_count": null,
   "metadata": {
    "vscode": {
     "languageId": "plaintext"
    }
   },
   "outputs": [],
   "source": [
    "df4 = pd.get_dummies(df3,columns={'Gender','Weather Conditions','Exercise', 'Weight Category','minute duration', 'Age group', 'Calories group'},drop_first=True)"
   ]
  },
  {
   "cell_type": "code",
   "execution_count": null,
   "metadata": {
    "vscode": {
     "languageId": "plaintext"
    }
   },
   "outputs": [],
   "source": [
    "display(check_missing_values(df4))"
   ]
  },
  {
   "cell_type": "code",
   "execution_count": null,
   "metadata": {},
   "outputs": [],
   "source": [
    "df4.info()"
   ]
  },
  {
   "cell_type": "markdown",
   "metadata": {},
   "source": [
    "## Train and Test"
   ]
  },
  {
   "cell_type": "code",
   "execution_count": null,
   "metadata": {},
   "outputs": [],
   "source": [
    "#Importing necessary libraries\n",
    "from sklearn.preprocessing import StandardScaler\n",
    "from sklearn.model_selection import train_test_split, GridSearchCV\n",
    "from sklearn.tree import DecisionTreeClassifier, plot_tree \n",
    "from sklearn.neighbors import KNeighborsClassifier\n",
    "from sklearn.svm import LinearSVC\n",
    "from sklearn.ensemble import RandomForestClassifier, AdaBoostClassifier, GradientBoostingClassifier\n",
    "#import xgboost as xgb\n",
    "from sklearn.metrics import accuracy_score \n",
    "from sklearn.metrics import f1_score\n",
    "from sklearn.metrics import precision_score\n",
    "from sklearn.metrics import recall_score\n",
    "from sklearn.metrics import auc\n",
    "from sklearn.metrics import  roc_curve\n",
    "from sklearn.metrics import  roc_auc_score\n",
    "from sklearn.metrics import mean_squared_error\n",
    "from sklearn.metrics import confusion_matrix\n",
    "from sklearn.metrics import classification_report\n",
    "from sklearn.feature_selection import SelectFromModel \n",
    "from sklearn.decomposition import PCA\n",
    "import matplotlib.pyplot as plt\n",
    "%matplotlib inline"
   ]
  },
  {
   "cell_type": "code",
   "execution_count": null,
   "metadata": {},
   "outputs": [],
   "source": [
    "x = df4.drop('Exercise Intensity',axis=1)\n",
    "y = df4['Exercise Intensity']"
   ]
  },
  {
   "cell_type": "code",
   "execution_count": null,
   "metadata": {},
   "outputs": [],
   "source": [
    "X_train,X_test,y_train,y_test = train_test_split(x,y,test_size=0.2,random_state=11)"
   ]
  },
  {
   "cell_type": "code",
   "execution_count": null,
   "metadata": {},
   "outputs": [],
   "source": [
    "print(X_train.shape)  # print (n_train_samples, n_features)\n",
    "print(X_test.shape)   # print (n_test_samples, n_features)\n",
    "print(y_train.shape)  # print (n_train_samples,)\n",
    "print(y_test.shape)   # print (n_test_samples,)"
   ]
  },
  {
   "cell_type": "code",
   "execution_count": null,
   "metadata": {},
   "outputs": [],
   "source": [
    "#Instantiate Standard Scaler\n",
    "scaler = StandardScaler()\n",
    "\n",
    "# Fit and transform train and test set\n",
    "X_train_scaled = scaler.fit_transform(X_train)\n",
    "X_test_scaled = scaler.transform(X_test)"
   ]
  },
  {
   "cell_type": "code",
   "execution_count": null,
   "metadata": {},
   "outputs": [],
   "source": [
    "# Create a DataFrame from the scaled training data and display the first few rows of the scaled training data DataFrame\n",
    "scaled_data_train = pd.DataFrame(X_train_scaled , columns=X_train.columns)\n",
    "scaled_data_train.head()"
   ]
  },
  {
   "cell_type": "markdown",
   "metadata": {},
   "source": [
    "## Modeling\n",
    "1. Linear Regression\n",
    "2. Random Forest\n",
    "3. XGB boost\n",
    "4. \n",
    "\n",
    "## Random Forest"
   ]
  },
  {
   "cell_type": "code",
   "execution_count": null,
   "metadata": {},
   "outputs": [],
   "source": [
    "# Instantiate and fit the model\n",
    "rfc = RandomForestClassifier(n_estimators=100)\n",
    "rfc.fit(X_train_scaled, y_train)  "
   ]
  },
  {
   "cell_type": "code",
   "execution_count": null,
   "metadata": {},
   "outputs": [],
   "source": [
    "# Get the column names of the features in the training data\n",
    "labels = list(X_train.columns)"
   ]
  },
  {
   "cell_type": "code",
   "execution_count": null,
   "metadata": {},
   "outputs": [],
   "source": [
    "# Plot feature importances\n",
    "n_features = X_train_scaled.shape[1]\n",
    "plt.figure(figsize=(20,50))\n",
    "plt.barh(range(n_features), rfc.feature_importances_, align='center') \n",
    "plt.yticks(np.arange(n_features),labels=labels)\n",
    "plt.title('Feature Imporance', fontsize=30, pad=5)\n",
    "plt.xlabel('Feature importance', fontsize=20, labelpad=5)\n",
    "plt.ylabel('Features', fontsize=20)\n",
    "plt.tight_layout()"
   ]
  },
  {
   "cell_type": "code",
   "execution_count": null,
   "metadata": {},
   "outputs": [],
   "source": [
    "#select features based on their importance scores using the mean value of feature importances\n",
    "selected_features = X_train.columns[rfc.feature_importances_ > rfc.feature_importances_.mean()]\n",
    "print(selected_features)"
   ]
  },
  {
   "cell_type": "code",
   "execution_count": null,
   "metadata": {},
   "outputs": [],
   "source": [
    "# filter the feature importance scores based on their values, selecting only the scores that are above the mean\n",
    "scores = rfc.feature_importances_\n",
    "selected_features_scores = scores[rfc.feature_importances_ > rfc.feature_importances_.mean()]\n",
    "labels_selected = list(selected_features)"
   ]
  },
  {
   "cell_type": "code",
   "execution_count": null,
   "metadata": {},
   "outputs": [],
   "source": [
    "# Plot feature importances\n",
    "n_features = len(selected_features)\n",
    "\n",
    "# Sort the selected features and their scores in ascending order\n",
    "sorted_indices = np.argsort(selected_features_scores)\n",
    "sorted_features = np.array(labels_selected)[sorted_indices]\n",
    "sorted_scores = selected_features_scores[sorted_indices]\n",
    "\n",
    "plt.figure(figsize=(20, 50))\n",
    "plt.barh(range(n_features), sorted_scores, align='center')\n",
    "plt.yticks(np.arange(n_features), labels=sorted_features)\n",
    "plt.title('Feature Importances', fontsize=30, pad=15)\n",
    "plt.xlabel('Feature Importance', fontsize=20, labelpad=5)\n",
    "plt.ylabel('Features', fontsize=20)\n",
    "plt.tight_layout()\n",
    "plt.show()"
   ]
  },
  {
   "cell_type": "code",
   "execution_count": null,
   "metadata": {},
   "outputs": [],
   "source": [
    "def evaluate_classification(model, X_train_transformed, X_test_transformed, y_train, y_test, classes=None, normalize='true', cmap='Blues_r', label='', save_dir='plots'):\n",
    "\n",
    "    # Create save directory if it doesn't exist\n",
    "    os.makedirs(save_dir, exist_ok=True)\n",
    "\n",
    "    # retrieve predictions for train and test data\n",
    "    y_pred_train = model.predict(X_train_transformed)\n",
    "    y_pred_test = model.predict(X_test_transformed)\n",
    "\n",
    "    # print training classification report\n",
    "    header = label + \" CLASSIFICATION REPORT TRAINING \"\n",
    "    dashes = \"---\" * 20\n",
    "    print(dashes, header, dashes, sep='\\n')\n",
    "    print(classification_report(y_train, y_pred_train, target_names=classes))\n",
    "\n",
    "    # calculate confusion matrix for training data\n",
    "    cm_train = confusion_matrix(y_train, y_pred_train)\n",
    "    cm_train_norm = cm_train / cm_train.sum(axis=1)[:, np.newaxis] if normalize == 'true' else cm_train\n",
    "\n",
    "    # print testing classification report\n",
    "    header_ = label + \" CLASSIFICATION REPORT TESTING \"\n",
    "    print(dashes, header_, dashes, sep='\\n')\n",
    "    print(classification_report(y_test, y_pred_test, target_names=classes))\n",
    "\n",
    "    # calculate confusion matrix for testing data\n",
    "    cm_test = confusion_matrix(y_test, y_pred_test)\n",
    "    cm_test_norm = cm_test / cm_test.sum(axis=1)[:, np.newaxis] if normalize == 'true' else cm_test\n",
    "\n",
    "    # Create a combined figure for training and testing plots\n",
    "    fig, axes = plt.subplots(figsize=(12, 4), ncols=4)\n",
    "\n",
    "    # plot confusion matrix for training data\n",
    "    sns.heatmap(cm_train_norm, annot=True, fmt='.2f', cmap=cmap, ax=axes[0])\n",
    "    axes[0].set(title='Confusion Matrix Training', xlabel='Predicted Labels', ylabel='True Labels')\n",
    "\n",
    "    # plot ROC curve for training data\n",
    "    fpr_train, tpr_train, _ = roc_curve(y_train, model.predict_proba(X_train_transformed)[:, 1])\n",
    "    roc_auc_train = roc_auc_score(y_train, model.predict_proba(X_train_transformed)[:, 1])\n",
    "    axes[1].plot(fpr_train, tpr_train, label=f'AUC = {roc_auc_train:.2f}')\n",
    "    axes[1].plot([0, 1], [0, 1], ls=':')\n",
    "    axes[1].set(xlabel='False Positive Rate', ylabel='True Positive Rate',\n",
    "                title='Receiver Operating Characteristic Training')\n",
    "    axes[1].legend(loc='lower right')\n",
    "\n",
    "    # plot confusion matrix for testing data\n",
    "    sns.heatmap(cm_test_norm, annot=True, fmt='.2f', cmap=cmap, ax=axes[2])\n",
    "    axes[2].set(title='Confusion Matrix Testing', xlabel='Predicted Labels', ylabel='True Labels')\n",
    "\n",
    "    # plot ROC curve for testing data\n",
    "    fpr_test, tpr_test, _ = roc_curve(y_test, model.predict_proba(X_test_transformed)[:, 1])\n",
    "    roc_auc_test = roc_auc_score(y_test, model.predict_proba(X_test_transformed)[:, 1])\n",
    "    axes[3].plot(fpr_test, tpr_test, label=f'AUC = {roc_auc_test:.2f}')\n",
    "    axes[3].plot([0, 1], [0, 1], ls=':')\n",
    "    axes[3].set(xlabel='False Positive Rate', ylabel='True Positive Rate',\n",
    "                title='Receiver Operating Characteristic Testing')\n",
    "    axes[3].legend(loc='lower right')\n",
    "\n",
    "    # Adjust spacing between subplots\n",
    "    plt.tight_layout(pad=2.0)\n",
    "\n",
    "    # Save combined plots\n",
    "    plt.savefig(os.path.join(save_dir, 'combined_plots.png'))\n",
    "\n",
    "    plt.show()"
   ]
  },
  {
   "cell_type": "code",
   "execution_count": null,
   "metadata": {},
   "outputs": [],
   "source": [
    "# Instantiate and fit the model\n",
    "rf = RandomForestClassifier(n_estimators=100, max_depth= 5)\n",
    "rf.fit(X_train_scaled, y_train)  "
   ]
  },
  {
   "cell_type": "code",
   "execution_count": null,
   "metadata": {},
   "outputs": [],
   "source": [
    "import os\n",
    "# Call the pred_score function with Random forest classifier \n",
    "evaluate_classification(rf,X_train_scaled, X_test_scaled, y_train, y_test, label = 'Random Forest')"
   ]
  },
  {
   "cell_type": "markdown",
   "metadata": {},
   "source": [
    "## Pipelines"
   ]
  },
  {
   "cell_type": "code",
   "execution_count": null,
   "metadata": {},
   "outputs": [],
   "source": [
    "df1.info()"
   ]
  },
  {
   "cell_type": "code",
   "execution_count": null,
   "metadata": {},
   "outputs": [],
   "source": [
    "state = 42\n",
    "cat_features = [\n",
    "    'Exercise', \n",
    "    'Gender', \n",
    "    'Weather Conditions'\n",
    "]\n",
    "\n",
    "num_features = [\n",
    "    'Dream Weight', \n",
    "    'Actual Weight', \n",
    "    'Age', \n",
    "    'Duration', \n",
    "    'Heart Rate', \n",
    "    'BMI', \n",
    "    \n",
    "]\n",
    "\n",
    "target = 'Exercise Intensity'\n",
    "\n",
    "X_train, X_test, y_train, y_test = train_test_split(\n",
    "    df1[cat_features+num_features], \n",
    "    df1[target], \n",
    "    test_size=0.33, \n",
    "    random_state=state\n",
    ")"
   ]
  },
  {
   "cell_type": "code",
   "execution_count": null,
   "metadata": {},
   "outputs": [],
   "source": [
    "# Pipeline stuff\n",
    "# adding imputer in case future df updates will be with NaNs\n",
    "\n",
    "numeric_transformer = Pipeline(\n",
    "    steps=[\n",
    "        ('imputer', SimpleImputer(strategy='mean')),\n",
    "        ('normalizer', Normalizer())\n",
    "    ]\n",
    ")\n",
    "\n",
    "categorical_transformer = Pipeline(\n",
    "    steps=[\n",
    "        ('imputer', SimpleImputer(strategy='constant')),\n",
    "        ('encoder', OrdinalEncoder())\n",
    "    ]\n",
    ")\n",
    "\n",
    "preprocessor = ColumnTransformer(\n",
    "   transformers=[\n",
    "       ('numeric', numeric_transformer, num_features),\n",
    "       ('categorical', categorical_transformer, cat_features)\n",
    "   ]\n",
    ")"
   ]
  },
  {
   "cell_type": "code",
   "execution_count": null,
   "metadata": {},
   "outputs": [],
   "source": [
    "loss = ['absolute_error']\n",
    "max_features = ['log2', None]\n",
    "n_estimators = range(45, 55)\n",
    "max_depth = range(1, 6)\n",
    "min_samples_split = range(2, 9, 2)\n",
    "min_samples_leaf = range(2, 9, 2)\n",
    "\n",
    "hyperparameter_grid = {\n",
    "    'reg__loss': loss,\n",
    "    'reg__max_features': max_features,\n",
    "    'reg__n_estimators': n_estimators,\n",
    "    'reg__max_depth': max_depth,\n",
    "    'reg__min_samples_split': min_samples_split,\n",
    "    'reg__min_samples_leaf': min_samples_leaf\n",
    "}\n",
    "\n",
    "grid_cv = GridSearchCV(\n",
    "    estimator=pipeline,\n",
    "    param_grid=hyperparameter_grid,\n",
    "    cv=3, \n",
    "    scoring='neg_mean_squared_error',\n",
    "    verbose=1,\n",
    "    n_jobs=-1\n",
    ")\n",
    "\n",
    "grid_cv.fit(X_train, y_train)\n",
    "best_params = grid_cv.best_params_\n",
    "\n",
    "print()\n",
    "print('Best params:')\n",
    "print(best_params)\n",
    "print()\n",
    "print('Best score:', grid_cv.best_score_)"
   ]
  },
  {
   "cell_type": "code",
   "execution_count": null,
   "metadata": {},
   "outputs": [],
   "source": [
    "pipeline.set_params(**best_params)\n",
    "\n",
    "pipeline.fit(X_train, y_train)\n",
    "y_pred = np.round(pipeline.predict(X_test))\n",
    "print(f'MSE for test subset: {mean_squared_error(y_test, y_pred)}')"
   ]
  }
 ],
 "metadata": {
  "language_info": {
   "name": "python"
  },
  "orig_nbformat": 4
 },
 "nbformat": 4,
 "nbformat_minor": 2
}
