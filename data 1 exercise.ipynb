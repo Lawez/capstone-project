{
 "cells": [
  {
   "cell_type": "markdown",
   "metadata": {},
   "source": [
    "## Business understanding\n",
    "#### Problem statement\n",
    "Develop a recommender system for exercise intensity that provides personalized recommendations on appropriate workout intensities based on individual characteristics, including age, gender, BMI, exercise duration, heart rate, calories burned, weather conditions, and desired weight goals. The goal is to guide individuals in selecting exercise intensities that optimize their fitness outcomes, taking into account their specific attributes and preferences.\n",
    "#### Business context\n",
    "In today's thriving fitness and wellness industry, the development of a recommender system for exercise intensity presents valuable business opportunities. Fitness centers, gyms, and personal trainers can leverage this system to offer tailored workout programs that align with individual goals, preferences, and fitness levels, ultimately attracting and retaining members. Wellness apps and platforms can integrate the recommender system to deliver personalized exercise recommendations, enhancing the user experience and setting them apart from competitors. Healthcare providers can utilize the system to promote physical activity as a means of disease prevention and management, while corporate wellness programs can leverage it to support employee well-being and productivity. By incorporating an exercise intensity recommender system, businesses can optimize workout effectiveness, increase customer satisfaction, and differentiate their offerings in a competitive market.\n",
    "\n",
    "#### Objectives\n",
    "Overall Objective: Develop a Recommender System for Personalized Exercise Intensity\n",
    "\n",
    "1. To personalize exercise intensity recommendations. Build a recommendation system based on individual characteristics such as age, gender, body mass index (BMI), exercise duration, heart rate, calories burned, weather conditions, and desired weight goals.\n",
    "2. Develop a model that can predict the optimal exercise intensity for a given individual. \n",
    "3. Identify the factors that contribute to optimal exercise intensity.\n",
    "4. To develop a recommender system that can dynamically adjust exercise intensity recommendations based on changing weather conditions. The system should consider the impact of different weather conditions on workout performance and suggest appropriate exercise intensities accordingly"
   ]
  },
  {
   "cell_type": "code",
   "execution_count": 1,
   "metadata": {},
   "outputs": [],
   "source": [
    "import pandas as pd\n",
    "import seaborn as sns\n",
    "import matplotlib.pyplot as plt"
   ]
  },
  {
   "cell_type": "code",
   "execution_count": 2,
   "metadata": {},
   "outputs": [
    {
     "data": {
      "text/html": [
       "<div>\n",
       "<style scoped>\n",
       "    .dataframe tbody tr th:only-of-type {\n",
       "        vertical-align: middle;\n",
       "    }\n",
       "\n",
       "    .dataframe tbody tr th {\n",
       "        vertical-align: top;\n",
       "    }\n",
       "\n",
       "    .dataframe thead th {\n",
       "        text-align: right;\n",
       "    }\n",
       "</style>\n",
       "<table border=\"1\" class=\"dataframe\">\n",
       "  <thead>\n",
       "    <tr style=\"text-align: right;\">\n",
       "      <th></th>\n",
       "      <th>ID</th>\n",
       "      <th>Exercise</th>\n",
       "      <th>Calories Burn</th>\n",
       "      <th>Dream Weight</th>\n",
       "      <th>Actual Weight</th>\n",
       "      <th>Age</th>\n",
       "      <th>Gender</th>\n",
       "      <th>Duration</th>\n",
       "      <th>Heart Rate</th>\n",
       "      <th>BMI</th>\n",
       "      <th>Weather Conditions</th>\n",
       "      <th>Exercise Intensity</th>\n",
       "    </tr>\n",
       "  </thead>\n",
       "  <tbody>\n",
       "    <tr>\n",
       "      <th>0</th>\n",
       "      <td>1</td>\n",
       "      <td>Exercise 2</td>\n",
       "      <td>286.9598505</td>\n",
       "      <td>91.89253067</td>\n",
       "      <td>96.30111546</td>\n",
       "      <td>45</td>\n",
       "      <td>Male</td>\n",
       "      <td>37</td>\n",
       "      <td>170</td>\n",
       "      <td>29.42627467</td>\n",
       "      <td>Rainy</td>\n",
       "      <td>5</td>\n",
       "    </tr>\n",
       "    <tr>\n",
       "      <th>1</th>\n",
       "      <td>2</td>\n",
       "      <td>Exercise 7</td>\n",
       "      <td>343.4530361</td>\n",
       "      <td>64.16509681</td>\n",
       "      <td>61.1046681</td>\n",
       "      <td>25</td>\n",
       "      <td>Male</td>\n",
       "      <td>43</td>\n",
       "      <td>142</td>\n",
       "      <td>21.28634599</td>\n",
       "      <td>Rainy</td>\n",
       "      <td>5</td>\n",
       "    </tr>\n",
       "    <tr>\n",
       "      <th>2</th>\n",
       "      <td>3</td>\n",
       "      <td>Exercise 4</td>\n",
       "      <td>261.2234649</td>\n",
       "      <td>70.84622352</td>\n",
       "      <td>71.76672384</td>\n",
       "      <td>20</td>\n",
       "      <td>Male</td>\n",
       "      <td>20</td>\n",
       "      <td>148</td>\n",
       "      <td>27.8995916</td>\n",
       "      <td>Cloudy</td>\n",
       "      <td>4</td>\n",
       "    </tr>\n",
       "    <tr>\n",
       "      <th>3</th>\n",
       "      <td>4</td>\n",
       "      <td>Exercise 5</td>\n",
       "      <td>127.1838584</td>\n",
       "      <td>79.47700756</td>\n",
       "      <td>82.98445557</td>\n",
       "      <td>33</td>\n",
       "      <td>Male</td>\n",
       "      <td>39</td>\n",
       "      <td>170</td>\n",
       "      <td>33.72955245</td>\n",
       "      <td>Sunny</td>\n",
       "      <td>10</td>\n",
       "    </tr>\n",
       "    <tr>\n",
       "      <th>4</th>\n",
       "      <td>5</td>\n",
       "      <td>Exercise 10</td>\n",
       "      <td>416.3183735</td>\n",
       "      <td>89.96022608</td>\n",
       "      <td>85.64317443</td>\n",
       "      <td>29</td>\n",
       "      <td>Female</td>\n",
       "      <td>34</td>\n",
       "      <td>118</td>\n",
       "      <td>23.28611341</td>\n",
       "      <td>Cloudy</td>\n",
       "      <td>3</td>\n",
       "    </tr>\n",
       "    <tr>\n",
       "      <th>...</th>\n",
       "      <td>...</td>\n",
       "      <td>...</td>\n",
       "      <td>...</td>\n",
       "      <td>...</td>\n",
       "      <td>...</td>\n",
       "      <td>...</td>\n",
       "      <td>...</td>\n",
       "      <td>...</td>\n",
       "      <td>...</td>\n",
       "      <td>...</td>\n",
       "      <td>...</td>\n",
       "      <td>...</td>\n",
       "    </tr>\n",
       "    <tr>\n",
       "      <th>6555</th>\n",
       "      <td>6450</td>\n",
       "      <td>Exercise 4</td>\n",
       "      <td>261.10470064839626</td>\n",
       "      <td>92.53265155833654</td>\n",
       "      <td>75.07431787498139</td>\n",
       "      <td>37.0</td>\n",
       "      <td>Male</td>\n",
       "      <td>18.0</td>\n",
       "      <td>142.0</td>\n",
       "      <td>58.21298673868801</td>\n",
       "      <td>Cloudy</td>\n",
       "      <td>9.0</td>\n",
       "    </tr>\n",
       "    <tr>\n",
       "      <th>6556</th>\n",
       "      <td>6451</td>\n",
       "      <td>Exercise 10</td>\n",
       "      <td>238.75593125946457</td>\n",
       "      <td>91.86637940980307</td>\n",
       "      <td>79.3022659035273</td>\n",
       "      <td>39.0</td>\n",
       "      <td>Female</td>\n",
       "      <td>51.0</td>\n",
       "      <td>141.0</td>\n",
       "      <td>57.34875813488217</td>\n",
       "      <td>Sunny</td>\n",
       "      <td>NaN</td>\n",
       "    </tr>\n",
       "    <tr>\n",
       "      <th>6557</th>\n",
       "      <td>6452</td>\n",
       "      <td>Exercise 10</td>\n",
       "      <td>201.35357634394668</td>\n",
       "      <td>97.14505505159714</td>\n",
       "      <td>80.41948431043107</td>\n",
       "      <td>34.0</td>\n",
       "      <td>Female</td>\n",
       "      <td>20.0</td>\n",
       "      <td>146.0</td>\n",
       "      <td>42.209017930816806</td>\n",
       "      <td>Cloudy</td>\n",
       "      <td>NaN</td>\n",
       "    </tr>\n",
       "    <tr>\n",
       "      <th>6558</th>\n",
       "      <td>6453</td>\n",
       "      <td>Exercise 5</td>\n",
       "      <td>200.69974443411724</td>\n",
       "      <td>93.46434930605588</td>\n",
       "      <td>71.09308873103583</td>\n",
       "      <td>23.0</td>\n",
       "      <td>Male</td>\n",
       "      <td>20.0</td>\n",
       "      <td>189.0</td>\n",
       "      <td>32.79409983874228</td>\n",
       "      <td>Sunny</td>\n",
       "      <td>1.0</td>\n",
       "    </tr>\n",
       "    <tr>\n",
       "      <th>6559</th>\n",
       "      <td>6454</td>\n",
       "      <td>Exercise 2</td>\n",
       "      <td>203.45320451170048</td>\n",
       "      <td>83.67580400171121</td>\n",
       "      <td>70.59179722355367</td>\n",
       "      <td>35.0</td>\n",
       "      <td>Male</td>\n",
       "      <td>26.0</td>\n",
       "      <td>NaN</td>\n",
       "      <td>63.319255310948535</td>\n",
       "      <td>Cloudy</td>\n",
       "      <td>5.0</td>\n",
       "    </tr>\n",
       "  </tbody>\n",
       "</table>\n",
       "<p>6560 rows × 12 columns</p>\n",
       "</div>"
      ],
      "text/plain": [
       "        ID     Exercise       Calories Burn       Dream Weight  \\\n",
       "0        1   Exercise 2         286.9598505        91.89253067   \n",
       "1        2   Exercise 7         343.4530361        64.16509681   \n",
       "2        3   Exercise 4         261.2234649        70.84622352   \n",
       "3        4   Exercise 5         127.1838584        79.47700756   \n",
       "4        5  Exercise 10         416.3183735        89.96022608   \n",
       "...    ...          ...                 ...                ...   \n",
       "6555  6450   Exercise 4  261.10470064839626  92.53265155833654   \n",
       "6556  6451  Exercise 10  238.75593125946457  91.86637940980307   \n",
       "6557  6452  Exercise 10  201.35357634394668  97.14505505159714   \n",
       "6558  6453   Exercise 5  200.69974443411724  93.46434930605588   \n",
       "6559  6454   Exercise 2  203.45320451170048  83.67580400171121   \n",
       "\n",
       "          Actual Weight   Age  Gender Duration Heart Rate                 BMI  \\\n",
       "0           96.30111546    45    Male       37        170         29.42627467   \n",
       "1            61.1046681    25    Male       43        142         21.28634599   \n",
       "2           71.76672384    20    Male       20        148          27.8995916   \n",
       "3           82.98445557    33    Male       39        170         33.72955245   \n",
       "4           85.64317443    29  Female       34        118         23.28611341   \n",
       "...                 ...   ...     ...      ...        ...                 ...   \n",
       "6555  75.07431787498139  37.0    Male     18.0      142.0   58.21298673868801   \n",
       "6556   79.3022659035273  39.0  Female     51.0      141.0   57.34875813488217   \n",
       "6557  80.41948431043107  34.0  Female     20.0      146.0  42.209017930816806   \n",
       "6558  71.09308873103583  23.0    Male     20.0      189.0   32.79409983874228   \n",
       "6559  70.59179722355367  35.0    Male     26.0        NaN  63.319255310948535   \n",
       "\n",
       "     Weather Conditions Exercise Intensity  \n",
       "0                 Rainy                  5  \n",
       "1                 Rainy                  5  \n",
       "2                Cloudy                  4  \n",
       "3                 Sunny                 10  \n",
       "4                Cloudy                  3  \n",
       "...                 ...                ...  \n",
       "6555             Cloudy                9.0  \n",
       "6556              Sunny                NaN  \n",
       "6557             Cloudy                NaN  \n",
       "6558              Sunny                1.0  \n",
       "6559             Cloudy                5.0  \n",
       "\n",
       "[6560 rows x 12 columns]"
      ]
     },
     "execution_count": 2,
     "metadata": {},
     "output_type": "execute_result"
    }
   ],
   "source": [
    "df1=pd.read_csv(\"exercise_dataset.csv\")\n",
    "df1"
   ]
  },
  {
   "cell_type": "code",
   "execution_count": 3,
   "metadata": {},
   "outputs": [
    {
     "name": "stdout",
     "output_type": "stream",
     "text": [
      "Dataset 1 - Number of rows: 6560\n",
      "Dataset 1 - Number of columns: 12\n"
     ]
    }
   ],
   "source": [
    "# A function to print the shape of our datasets\n",
    "def print_dataset_shape(*datasets):\n",
    "    \"\"\"\n",
    "    Prints the shape of one or more datasets (number of rows and columns).\n",
    "    Assumes datasets are in a Pandas DataFrame format.\n",
    "    \"\"\"\n",
    "    for idx, dataset in enumerate(datasets):\n",
    "        print(f\"Dataset {idx + 1} - Number of rows: {dataset.shape[0]}\")\n",
    "        print(f\"Dataset {idx + 1} - Number of columns: {dataset.shape[1]}\")\n",
    "# print the shape of our dataset\n",
    "print_dataset_shape(df1)"
   ]
  },
  {
   "cell_type": "code",
   "execution_count": 4,
   "metadata": {},
   "outputs": [
    {
     "name": "stdout",
     "output_type": "stream",
     "text": [
      "\n",
      "data:\n",
      "\n"
     ]
    },
    {
     "data": {
      "text/html": [
       "<div>\n",
       "<style scoped>\n",
       "    .dataframe tbody tr th:only-of-type {\n",
       "        vertical-align: middle;\n",
       "    }\n",
       "\n",
       "    .dataframe tbody tr th {\n",
       "        vertical-align: top;\n",
       "    }\n",
       "\n",
       "    .dataframe thead th {\n",
       "        text-align: right;\n",
       "    }\n",
       "</style>\n",
       "<table border=\"1\" class=\"dataframe\">\n",
       "  <thead>\n",
       "    <tr style=\"text-align: right;\">\n",
       "      <th></th>\n",
       "      <th>ID</th>\n",
       "      <th>Exercise</th>\n",
       "      <th>Calories Burn</th>\n",
       "      <th>Dream Weight</th>\n",
       "      <th>Actual Weight</th>\n",
       "      <th>Age</th>\n",
       "      <th>Gender</th>\n",
       "      <th>Duration</th>\n",
       "      <th>Heart Rate</th>\n",
       "      <th>BMI</th>\n",
       "      <th>Weather Conditions</th>\n",
       "      <th>Exercise Intensity</th>\n",
       "    </tr>\n",
       "  </thead>\n",
       "  <tbody>\n",
       "    <tr>\n",
       "      <th>0</th>\n",
       "      <td>1</td>\n",
       "      <td>Exercise 2</td>\n",
       "      <td>286.9598505</td>\n",
       "      <td>91.89253067</td>\n",
       "      <td>96.30111546</td>\n",
       "      <td>45</td>\n",
       "      <td>Male</td>\n",
       "      <td>37</td>\n",
       "      <td>170</td>\n",
       "      <td>29.42627467</td>\n",
       "      <td>Rainy</td>\n",
       "      <td>5</td>\n",
       "    </tr>\n",
       "    <tr>\n",
       "      <th>1</th>\n",
       "      <td>2</td>\n",
       "      <td>Exercise 7</td>\n",
       "      <td>343.4530361</td>\n",
       "      <td>64.16509681</td>\n",
       "      <td>61.1046681</td>\n",
       "      <td>25</td>\n",
       "      <td>Male</td>\n",
       "      <td>43</td>\n",
       "      <td>142</td>\n",
       "      <td>21.28634599</td>\n",
       "      <td>Rainy</td>\n",
       "      <td>5</td>\n",
       "    </tr>\n",
       "    <tr>\n",
       "      <th>2</th>\n",
       "      <td>3</td>\n",
       "      <td>Exercise 4</td>\n",
       "      <td>261.2234649</td>\n",
       "      <td>70.84622352</td>\n",
       "      <td>71.76672384</td>\n",
       "      <td>20</td>\n",
       "      <td>Male</td>\n",
       "      <td>20</td>\n",
       "      <td>148</td>\n",
       "      <td>27.8995916</td>\n",
       "      <td>Cloudy</td>\n",
       "      <td>4</td>\n",
       "    </tr>\n",
       "    <tr>\n",
       "      <th>3</th>\n",
       "      <td>4</td>\n",
       "      <td>Exercise 5</td>\n",
       "      <td>127.1838584</td>\n",
       "      <td>79.47700756</td>\n",
       "      <td>82.98445557</td>\n",
       "      <td>33</td>\n",
       "      <td>Male</td>\n",
       "      <td>39</td>\n",
       "      <td>170</td>\n",
       "      <td>33.72955245</td>\n",
       "      <td>Sunny</td>\n",
       "      <td>10</td>\n",
       "    </tr>\n",
       "    <tr>\n",
       "      <th>4</th>\n",
       "      <td>5</td>\n",
       "      <td>Exercise 10</td>\n",
       "      <td>416.3183735</td>\n",
       "      <td>89.96022608</td>\n",
       "      <td>85.64317443</td>\n",
       "      <td>29</td>\n",
       "      <td>Female</td>\n",
       "      <td>34</td>\n",
       "      <td>118</td>\n",
       "      <td>23.28611341</td>\n",
       "      <td>Cloudy</td>\n",
       "      <td>3</td>\n",
       "    </tr>\n",
       "  </tbody>\n",
       "</table>\n",
       "</div>"
      ],
      "text/plain": [
       "  ID     Exercise Calories Burn Dream Weight Actual Weight Age  Gender  \\\n",
       "0  1   Exercise 2   286.9598505  91.89253067   96.30111546  45    Male   \n",
       "1  2   Exercise 7   343.4530361  64.16509681    61.1046681  25    Male   \n",
       "2  3   Exercise 4   261.2234649  70.84622352   71.76672384  20    Male   \n",
       "3  4   Exercise 5   127.1838584  79.47700756   82.98445557  33    Male   \n",
       "4  5  Exercise 10   416.3183735  89.96022608   85.64317443  29  Female   \n",
       "\n",
       "  Duration Heart Rate          BMI Weather Conditions Exercise Intensity  \n",
       "0       37        170  29.42627467              Rainy                  5  \n",
       "1       43        142  21.28634599              Rainy                  5  \n",
       "2       20        148   27.8995916             Cloudy                  4  \n",
       "3       39        170  33.72955245              Sunny                 10  \n",
       "4       34        118  23.28611341             Cloudy                  3  "
      ]
     },
     "metadata": {},
     "output_type": "display_data"
    }
   ],
   "source": [
    "# Function to display the head of our datasets\n",
    "def display_data_head(df1):\n",
    "    dfs = [df1.head()]\n",
    "    df_names = [\"data\"]\n",
    "    for df, name in zip(dfs, df_names): \n",
    "        print(f\"\\n{name}:\\n\")\n",
    "        display(df)\n",
    "# Display the head of our datasets\n",
    "display_data_head(df1)"
   ]
  },
  {
   "cell_type": "code",
   "execution_count": 5,
   "metadata": {},
   "outputs": [
    {
     "name": "stdout",
     "output_type": "stream",
     "text": [
      "<class 'pandas.core.frame.DataFrame'>\n",
      "RangeIndex: 6560 entries, 0 to 6559\n",
      "Data columns (total 12 columns):\n",
      " #   Column              Non-Null Count  Dtype \n",
      "---  ------              --------------  ----- \n",
      " 0   ID                  6560 non-null   object\n",
      " 1   Exercise            6560 non-null   object\n",
      " 2   Calories Burn       6359 non-null   object\n",
      " 3   Dream Weight        6355 non-null   object\n",
      " 4   Actual Weight       6387 non-null   object\n",
      " 5   Age                 6373 non-null   object\n",
      " 6   Gender              6346 non-null   object\n",
      " 7   Duration            6374 non-null   object\n",
      " 8   Heart Rate          6358 non-null   object\n",
      " 9   BMI                 6369 non-null   object\n",
      " 10  Weather Conditions  6365 non-null   object\n",
      " 11  Exercise Intensity  6337 non-null   object\n",
      "dtypes: object(12)\n",
      "memory usage: 615.1+ KB\n"
     ]
    }
   ],
   "source": [
    "#checking info of data\n",
    "df1.info()"
   ]
  },
  {
   "cell_type": "code",
   "execution_count": 6,
   "metadata": {},
   "outputs": [
    {
     "name": "stdout",
     "output_type": "stream",
     "text": [
      "Duplicates found in the dataset:\n"
     ]
    },
    {
     "data": {
      "text/html": [
       "<div>\n",
       "<style scoped>\n",
       "    .dataframe tbody tr th:only-of-type {\n",
       "        vertical-align: middle;\n",
       "    }\n",
       "\n",
       "    .dataframe tbody tr th {\n",
       "        vertical-align: top;\n",
       "    }\n",
       "\n",
       "    .dataframe thead th {\n",
       "        text-align: right;\n",
       "    }\n",
       "</style>\n",
       "<table border=\"1\" class=\"dataframe\">\n",
       "  <thead>\n",
       "    <tr style=\"text-align: right;\">\n",
       "      <th></th>\n",
       "      <th>ID</th>\n",
       "      <th>Exercise</th>\n",
       "      <th>Calories Burn</th>\n",
       "      <th>Dream Weight</th>\n",
       "      <th>Actual Weight</th>\n",
       "      <th>Age</th>\n",
       "      <th>Gender</th>\n",
       "      <th>Duration</th>\n",
       "      <th>Heart Rate</th>\n",
       "      <th>BMI</th>\n",
       "      <th>Weather Conditions</th>\n",
       "      <th>Exercise Intensity</th>\n",
       "    </tr>\n",
       "  </thead>\n",
       "  <tbody>\n",
       "    <tr>\n",
       "      <th>3864</th>\n",
       "      <td>3859</td>\n",
       "      <td>Exercise 10</td>\n",
       "      <td>144.3056992</td>\n",
       "      <td>87.44282248</td>\n",
       "      <td>89.5469276</td>\n",
       "      <td>36</td>\n",
       "      <td>Male</td>\n",
       "      <td>55</td>\n",
       "      <td>178</td>\n",
       "      <td>33.38330541</td>\n",
       "      <td>Cloudy</td>\n",
       "      <td>1</td>\n",
       "    </tr>\n",
       "    <tr>\n",
       "      <th>3865</th>\n",
       "      <td>3860</td>\n",
       "      <td>Exercise 5</td>\n",
       "      <td>154.1131439</td>\n",
       "      <td>98.14729067</td>\n",
       "      <td>96.74513279</td>\n",
       "      <td>20</td>\n",
       "      <td>Female</td>\n",
       "      <td>22</td>\n",
       "      <td>139</td>\n",
       "      <td>32.44776394</td>\n",
       "      <td>Cloudy</td>\n",
       "      <td>7</td>\n",
       "    </tr>\n",
       "    <tr>\n",
       "      <th>3866</th>\n",
       "      <td>3861</td>\n",
       "      <td>Exercise 4</td>\n",
       "      <td>486.3927685</td>\n",
       "      <td>97.59895722</td>\n",
       "      <td>92.70057328</td>\n",
       "      <td>21</td>\n",
       "      <td>Female</td>\n",
       "      <td>49</td>\n",
       "      <td>160</td>\n",
       "      <td>26.60247496</td>\n",
       "      <td>Rainy</td>\n",
       "      <td>5</td>\n",
       "    </tr>\n",
       "    <tr>\n",
       "      <th>3867</th>\n",
       "      <td>3862</td>\n",
       "      <td>Exercise 4</td>\n",
       "      <td>264.3077311</td>\n",
       "      <td>94.94661237</td>\n",
       "      <td>96.77893592</td>\n",
       "      <td>57</td>\n",
       "      <td>Male</td>\n",
       "      <td>56</td>\n",
       "      <td>167</td>\n",
       "      <td>31.43534822</td>\n",
       "      <td>Rainy</td>\n",
       "      <td>9</td>\n",
       "    </tr>\n",
       "    <tr>\n",
       "      <th>3869</th>\n",
       "      <td>3864</td>\n",
       "      <td>Exercise 7</td>\n",
       "      <td>116.3604168</td>\n",
       "      <td>56.75742433</td>\n",
       "      <td>59.83340349</td>\n",
       "      <td>35</td>\n",
       "      <td>Male</td>\n",
       "      <td>22</td>\n",
       "      <td>134</td>\n",
       "      <td>29.58133002</td>\n",
       "      <td>Rainy</td>\n",
       "      <td>1</td>\n",
       "    </tr>\n",
       "  </tbody>\n",
       "</table>\n",
       "</div>"
      ],
      "text/plain": [
       "        ID     Exercise Calories Burn Dream Weight Actual Weight Age  Gender  \\\n",
       "3864  3859  Exercise 10   144.3056992  87.44282248    89.5469276  36    Male   \n",
       "3865  3860   Exercise 5   154.1131439  98.14729067   96.74513279  20  Female   \n",
       "3866  3861   Exercise 4   486.3927685  97.59895722   92.70057328  21  Female   \n",
       "3867  3862   Exercise 4   264.3077311  94.94661237   96.77893592  57    Male   \n",
       "3869  3864   Exercise 7   116.3604168  56.75742433   59.83340349  35    Male   \n",
       "\n",
       "     Duration Heart Rate          BMI Weather Conditions Exercise Intensity  \n",
       "3864       55        178  33.38330541             Cloudy                  1  \n",
       "3865       22        139  32.44776394             Cloudy                  7  \n",
       "3866       49        160  26.60247496              Rainy                  5  \n",
       "3867       56        167  31.43534822              Rainy                  9  \n",
       "3869       22        134  29.58133002              Rainy                  1  "
      ]
     },
     "execution_count": 6,
     "metadata": {},
     "output_type": "execute_result"
    }
   ],
   "source": [
    "# A function to check for duplicates in our datasets\n",
    "def check_duplicates(df):\n",
    "    \"\"\"\n",
    "    This function checks for and returns any duplicates in a given dataframe.\n",
    "    \"\"\"\n",
    "    duplicates = df[df.duplicated()]\n",
    "    if duplicates.shape[0] == 0:\n",
    "        print(\"No duplicates found in the dataset\")\n",
    "    else:\n",
    "        print(\"Duplicates found in the dataset:\")\n",
    "        return duplicates\n",
    "# Calling for the function to check for duplicates\n",
    "check_duplicates(df1)"
   ]
  },
  {
   "cell_type": "code",
   "execution_count": 7,
   "metadata": {},
   "outputs": [
    {
     "data": {
      "text/plain": [
       "Index(['ID', 'Exercise', 'Calories Burn', 'Dream Weight', 'Actual Weight',\n",
       "       'Age', 'Gender', 'Duration', 'Heart Rate', 'BMI', 'Weather Conditions',\n",
       "       'Exercise Intensity'],\n",
       "      dtype='object')"
      ]
     },
     "execution_count": 7,
     "metadata": {},
     "output_type": "execute_result"
    }
   ],
   "source": [
    "df1.columns"
   ]
  },
  {
   "cell_type": "code",
   "execution_count": 8,
   "metadata": {},
   "outputs": [],
   "source": [
    "#dropping duplicates\n",
    "df1.drop_duplicates(inplace=True)"
   ]
  },
  {
   "cell_type": "code",
   "execution_count": 9,
   "metadata": {},
   "outputs": [
    {
     "name": "stdout",
     "output_type": "stream",
     "text": [
      "No duplicates found in the dataset\n"
     ]
    }
   ],
   "source": [
    "# Calling for the function to check for duplicates\n",
    "check_duplicates(df1)"
   ]
  },
  {
   "cell_type": "markdown",
   "metadata": {},
   "source": [
    "## Missing Values"
   ]
  },
  {
   "cell_type": "code",
   "execution_count": 10,
   "metadata": {},
   "outputs": [
    {
     "data": {
      "text/html": [
       "<div>\n",
       "<style scoped>\n",
       "    .dataframe tbody tr th:only-of-type {\n",
       "        vertical-align: middle;\n",
       "    }\n",
       "\n",
       "    .dataframe tbody tr th {\n",
       "        vertical-align: top;\n",
       "    }\n",
       "\n",
       "    .dataframe thead th {\n",
       "        text-align: right;\n",
       "    }\n",
       "</style>\n",
       "<table border=\"1\" class=\"dataframe\">\n",
       "  <thead>\n",
       "    <tr style=\"text-align: right;\">\n",
       "      <th></th>\n",
       "      <th>Missing Values</th>\n",
       "      <th>% of Total</th>\n",
       "    </tr>\n",
       "  </thead>\n",
       "  <tbody>\n",
       "    <tr>\n",
       "      <th>Calories Burn</th>\n",
       "      <td>201</td>\n",
       "      <td>3.066362</td>\n",
       "    </tr>\n",
       "    <tr>\n",
       "      <th>Dream Weight</th>\n",
       "      <td>205</td>\n",
       "      <td>3.127384</td>\n",
       "    </tr>\n",
       "    <tr>\n",
       "      <th>Actual Weight</th>\n",
       "      <td>173</td>\n",
       "      <td>2.639207</td>\n",
       "    </tr>\n",
       "    <tr>\n",
       "      <th>Age</th>\n",
       "      <td>187</td>\n",
       "      <td>2.852784</td>\n",
       "    </tr>\n",
       "    <tr>\n",
       "      <th>Gender</th>\n",
       "      <td>214</td>\n",
       "      <td>3.264683</td>\n",
       "    </tr>\n",
       "    <tr>\n",
       "      <th>Duration</th>\n",
       "      <td>186</td>\n",
       "      <td>2.837529</td>\n",
       "    </tr>\n",
       "    <tr>\n",
       "      <th>Heart Rate</th>\n",
       "      <td>202</td>\n",
       "      <td>3.081617</td>\n",
       "    </tr>\n",
       "    <tr>\n",
       "      <th>BMI</th>\n",
       "      <td>191</td>\n",
       "      <td>2.913806</td>\n",
       "    </tr>\n",
       "    <tr>\n",
       "      <th>Weather Conditions</th>\n",
       "      <td>195</td>\n",
       "      <td>2.974828</td>\n",
       "    </tr>\n",
       "    <tr>\n",
       "      <th>Exercise Intensity</th>\n",
       "      <td>223</td>\n",
       "      <td>3.401983</td>\n",
       "    </tr>\n",
       "  </tbody>\n",
       "</table>\n",
       "</div>"
      ],
      "text/plain": [
       "                    Missing Values  % of Total\n",
       "Calories Burn                  201    3.066362\n",
       "Dream Weight                   205    3.127384\n",
       "Actual Weight                  173    2.639207\n",
       "Age                            187    2.852784\n",
       "Gender                         214    3.264683\n",
       "Duration                       186    2.837529\n",
       "Heart Rate                     202    3.081617\n",
       "BMI                            191    2.913806\n",
       "Weather Conditions             195    2.974828\n",
       "Exercise Intensity             223    3.401983"
      ]
     },
     "metadata": {},
     "output_type": "display_data"
    }
   ],
   "source": [
    "# A function to check for missing values in our dataset\n",
    "def check_missing_values(data):\n",
    "    # Count missing values in each column\n",
    "    missing_values = data.isnull().sum()\n",
    "\n",
    "    # Convert missing values count to percentage of total rows\n",
    "    missing_percent = (missing_values / len(data)) * 100\n",
    "\n",
    "    # Combine the missing values count and percent into a DataFrame\n",
    "    missing_df = pd.concat([missing_values, missing_percent], axis=1)\n",
    "    missing_df.columns = ['Missing Values', '% of Total']\n",
    "# Return only columns with missing values\n",
    "    missing_df = missing_df[missing_df['Missing Values'] > 0]\n",
    "\n",
    "    return missing_df\n",
    "\n",
    "# Check missing values in each dataset\n",
    "display(check_missing_values(df1))"
   ]
  },
  {
   "cell_type": "markdown",
   "metadata": {},
   "source": [
    "Calories Burn, Dream Weight, Actual Weight, Duration,Heart Rate,Age, BMI, contains missing values and we will fill with mean."
   ]
  },
  {
   "cell_type": "code",
   "execution_count": 11,
   "metadata": {},
   "outputs": [],
   "source": [
    "numerical_cols = ['Calories Burn', 'Dream Weight', 'Actual Weight', 'Age', 'Duration', 'Heart Rate', 'BMI', 'Exercise Intensity']\n",
    "# Convert numerical columns to numeric data type\n",
    "df1[numerical_cols] = df1[numerical_cols].apply(pd.to_numeric,errors=\"coerce\")"
   ]
  },
  {
   "cell_type": "code",
   "execution_count": 12,
   "metadata": {},
   "outputs": [],
   "source": [
    "# Fill missing values with the respective column's mean\n",
    "# Calories Burn, Dream Weight, Actual Weight, Duration, Heart Rate, Age, BMI, Exercise Intensity\n",
    "\n",
    "# Calculate the mean for each column\n",
    "mean_values = df1.mean()\n",
    "df1['Calories Burn'].fillna(mean_values['Calories Burn'], inplace=True)\n",
    "df1['Dream Weight'].fillna(mean_values['Dream Weight'], inplace=True)\n",
    "df1['Actual Weight'].fillna(mean_values['Actual Weight'], inplace=True)\n",
    "df1['Duration'].fillna(mean_values['Duration'], inplace=True)\n",
    "df1['Heart Rate'].fillna(mean_values['Heart Rate'], inplace=True)\n",
    "df1['Age'].fillna(mean_values['Age'], inplace=True)\n",
    "df1['BMI'].fillna(mean_values['BMI'], inplace=True)\n"
   ]
  },
  {
   "cell_type": "markdown",
   "metadata": {},
   "source": [
    "Gender and Weather condition will use foward fill respectively"
   ]
  },
  {
   "cell_type": "code",
   "execution_count": 13,
   "metadata": {},
   "outputs": [],
   "source": [
    "df1['Gender'].ffill(inplace=True)\n",
    "df1['Weather Conditions'].ffill(inplace=True)\n",
    "df1['Exercise Intensity'].ffill(inplace=True)\n"
   ]
  },
  {
   "cell_type": "code",
   "execution_count": 14,
   "metadata": {},
   "outputs": [
    {
     "data": {
      "text/html": [
       "<div>\n",
       "<style scoped>\n",
       "    .dataframe tbody tr th:only-of-type {\n",
       "        vertical-align: middle;\n",
       "    }\n",
       "\n",
       "    .dataframe tbody tr th {\n",
       "        vertical-align: top;\n",
       "    }\n",
       "\n",
       "    .dataframe thead th {\n",
       "        text-align: right;\n",
       "    }\n",
       "</style>\n",
       "<table border=\"1\" class=\"dataframe\">\n",
       "  <thead>\n",
       "    <tr style=\"text-align: right;\">\n",
       "      <th></th>\n",
       "      <th>Missing Values</th>\n",
       "      <th>% of Total</th>\n",
       "    </tr>\n",
       "  </thead>\n",
       "  <tbody>\n",
       "  </tbody>\n",
       "</table>\n",
       "</div>"
      ],
      "text/plain": [
       "Empty DataFrame\n",
       "Columns: [Missing Values, % of Total]\n",
       "Index: []"
      ]
     },
     "metadata": {},
     "output_type": "display_data"
    }
   ],
   "source": [
    "# Check missing values in each dataset\n",
    "display(check_missing_values(df1))"
   ]
  },
  {
   "cell_type": "code",
   "execution_count": 15,
   "metadata": {},
   "outputs": [
    {
     "name": "stdout",
     "output_type": "stream",
     "text": [
      "Unique groupings in Exercise:\n",
      "['Exercise 2' 'Exercise 7' 'Exercise 4' 'Exercise 5' 'Exercise 10'\n",
      " 'Exercise 1' 'Exercise 9' 'Exercise 8' 'Exercise 6' 'Exercise 3'\n",
      " 'Exercise']\n",
      "\n",
      "Unique groupings in Gender:\n",
      "['Male' 'Female' '40' 'Gender']\n",
      "\n",
      "Unique groupings in Weather Conditions:\n",
      "['Rainy' 'Cloudy' 'Sunny' '6' 'Weather']\n",
      "\n",
      "Unique groupings in Exercise Intensity:\n",
      "[ 5.  4. 10.  3.  2.  1.  6.  9.  7.  8.]\n",
      "\n"
     ]
    }
   ],
   "source": [
    "# Select the categoricall variables for exporation\n",
    "categorical_cols = ['Exercise', 'Gender', 'Weather Conditions', 'Exercise Intensity']\n",
    "\n",
    "def print_unique_groupings(df, categorical_cols):\n",
    "    for col in categorical_cols:\n",
    "        unique_groups = df[col].unique()\n",
    "        print(f\"Unique groupings in {col}:\")\n",
    "        print(unique_groups)\n",
    "        print()\n",
    "print_unique_groupings(df1, categorical_cols)"
   ]
  },
  {
   "cell_type": "code",
   "execution_count": 16,
   "metadata": {},
   "outputs": [
    {
     "data": {
      "text/plain": [
       "Female    3328\n",
       "Male      3227\n",
       "Name: Gender, dtype: int64"
      ]
     },
     "execution_count": 16,
     "metadata": {},
     "output_type": "execute_result"
    }
   ],
   "source": [
    "df1.loc[df1['Gender'].isin(['40','Gender']), 'Gender'] = 'Female'\n",
    "df1.loc[df1['Gender'].isin(['Female ']), 'Gender'] = 'Female'\n",
    "df1.loc[df1['Gender'].isin(['Male ']), 'Gender'] = 'Male'\n",
    "df1['Gender'].value_counts()"
   ]
  },
  {
   "cell_type": "code",
   "execution_count": 17,
   "metadata": {},
   "outputs": [
    {
     "name": "stdout",
     "output_type": "stream",
     "text": [
      "Unique groupings in Exercise:\n",
      "['Exercise 2' 'Exercise 7' 'Exercise 4' 'Exercise 5' 'Exercise 10'\n",
      " 'Exercise 1' 'Exercise 9' 'Exercise 8' 'Exercise 6' 'Exercise 3'\n",
      " 'Exercise']\n",
      "\n",
      "Unique groupings in Gender:\n",
      "['Male' 'Female']\n",
      "\n",
      "Unique groupings in Weather Conditions:\n",
      "['Rainy' 'Cloudy' 'Sunny' '6' 'Weather']\n",
      "\n",
      "Unique groupings in Exercise Intensity:\n",
      "[ 5.  4. 10.  3.  2.  1.  6.  9.  7.  8.]\n",
      "\n"
     ]
    }
   ],
   "source": [
    "#printing unique values\n",
    "print_unique_groupings(df1, categorical_cols)"
   ]
  },
  {
   "cell_type": "code",
   "execution_count": 18,
   "metadata": {},
   "outputs": [
    {
     "data": {
      "text/plain": [
       "Cloudy    2320\n",
       "Rainy     2263\n",
       "Sunny     1972\n",
       "Name: Weather Conditions, dtype: int64"
      ]
     },
     "execution_count": 18,
     "metadata": {},
     "output_type": "execute_result"
    }
   ],
   "source": [
    "df1.loc[df1['Weather Conditions'].isin(['6','Weather']), 'Weather Conditions'] = 'Rainy'\n",
    "df1.loc[df1['Weather Conditions'].isin(['Rainy ']), 'Weather Conditions'] = 'Rainy'\n",
    "df1.loc[df1['Weather Conditions'].isin(['Cloudy ']), 'Weather Conditions'] = 'Cloudy'\n",
    "df1.loc[df1['Weather Conditions'].isin(['Sunny']), 'Weather Conditions'] = 'Sunny'\n",
    "df1['Weather Conditions'].value_counts()"
   ]
  },
  {
   "cell_type": "code",
   "execution_count": 19,
   "metadata": {},
   "outputs": [
    {
     "name": "stdout",
     "output_type": "stream",
     "text": [
      "Unique groupings in Exercise:\n",
      "['Exercise 2' 'Exercise 7' 'Exercise 4' 'Exercise 5' 'Exercise 10'\n",
      " 'Exercise 1' 'Exercise 9' 'Exercise 8' 'Exercise 6' 'Exercise 3'\n",
      " 'Exercise']\n",
      "\n",
      "Unique groupings in Gender:\n",
      "['Male' 'Female']\n",
      "\n",
      "Unique groupings in Weather Conditions:\n",
      "['Rainy' 'Cloudy' 'Sunny']\n",
      "\n",
      "Unique groupings in Exercise Intensity:\n",
      "[ 5.  4. 10.  3.  2.  1.  6.  9.  7.  8.]\n",
      "\n"
     ]
    }
   ],
   "source": [
    "print_unique_groupings(df1, categorical_cols)"
   ]
  },
  {
   "cell_type": "markdown",
   "metadata": {},
   "source": [
    "## EDA"
   ]
  },
  {
   "cell_type": "code",
   "execution_count": 21,
   "metadata": {},
   "outputs": [
    {
     "data": {
      "image/png": "[encoded data removed]",
      "text/plain": [
       "<Figure size 432x432 with 1 Axes>"
      ]
     },
     "metadata": {},
     "output_type": "display_data"
    }
   ],
   "source": [
    "# Group the data by 'Gender' and get the valuecount \n",
    "gender_counts = df1['Gender'].value_counts()\n",
    "\n",
    "#pie chart\n",
    "plt.figure(figsize=(6, 6))\n",
    "plt.pie(gender_counts, labels=gender_counts.index, autopct='%1.1f%%', startangle=90)\n",
    "plt.title('Gender Distribution')\n",
    "plt.axis('equal')  \n",
    "plt.show()"
   ]
  },
  {
   "cell_type": "code",
   "execution_count": 23,
   "metadata": {},
   "outputs": [
    {
     "data": {
      "image/png": "[encoded data removed]",
      "text/plain": [
       "<Figure size 576x432 with 1 Axes>"
      ]
     },
     "metadata": {
      "needs_background": "light"
     },
     "output_type": "display_data"
    },
    {
     "data": {
      "image/png": "[encoded data removed]",
      "text/plain": [
       "<Figure size 576x432 with 1 Axes>"
      ]
     },
     "metadata": {
      "needs_background": "light"
     },
     "output_type": "display_data"
    },
    {
     "data": {
      "image/png": "[encoded data removed]",
      "text/plain": [
       "<Figure size 576x432 with 1 Axes>"
      ]
     },
     "metadata": {
      "needs_background": "light"
     },
     "output_type": "display_data"
    },
    {
     "data": {
      "image/png": "[encoded data removed]",
      "text/plain": [
       "<Figure size 576x432 with 1 Axes>"
      ]
     },
     "metadata": {
      "needs_background": "light"
     },
     "output_type": "display_data"
    },
    {
     "data": {
      "image/png": "[encoded data removed]",
      "text/plain": [
       "<Figure size 576x432 with 1 Axes>"
      ]
     },
     "metadata": {
      "needs_background": "light"
     },
     "output_type": "display_data"
    },
    {
     "data": {
      "image/png": "[encoded data removed]",
      "text/plain": [
       "<Figure size 576x432 with 1 Axes>"
      ]
     },
     "metadata": {
      "needs_background": "light"
     },
     "output_type": "display_data"
    },
    {
     "data": {
      "image/png": "[encoded data removed]",
      "text/plain": [
       "<Figure size 576x432 with 1 Axes>"
      ]
     },
     "metadata": {
      "needs_background": "light"
     },
     "output_type": "display_data"
    },
    {
     "data": {
      "image/png": "[encoded data removed]",
      "text/plain": [
       "<Figure size 576x432 with 1 Axes>"
      ]
     },
     "metadata": {
      "needs_background": "light"
     },
     "output_type": "display_data"
    }
   ],
   "source": [
    "# Plot histogram for numerical variables\n",
    "for col in numerical_cols:\n",
    "    plt.figure(figsize=(8, 6))\n",
    "    sns.histplot(data=df1, x=col, kde=True)\n",
    "    plt.title(f'Histogram of {col}')\n",
    "    plt.xlabel(col)\n",
    "    plt.ylabel('Count')\n",
    "    plt.show()"
   ]
  },
  {
   "cell_type": "code",
   "execution_count": 24,
   "metadata": {},
   "outputs": [],
   "source": [
    "# function to plot bar plots for various variables(categorical variables)\n",
    "def create_bar_plot(data, variable):\n",
    "    \n",
    "    # frequency Distribution of eachvariable\n",
    "    variable_counts = data[variable].value_counts()\n",
    "    \n",
    "    # Create the bar plot\n",
    "    plt.figure(figsize=(12, 6))\n",
    "    variable_counts.plot(kind='bar')\n",
    "    plt.title(f'Frequency Distribution of {variable}')\n",
    "    plt.xlabel(variable)\n",
    "    plt.ylabel('Frequency')\n",
    "    plt.xticks(rotation=0)\n",
    "    plt.show()"
   ]
  },
  {
   "cell_type": "code",
   "execution_count": 26,
   "metadata": {},
   "outputs": [
    {
     "data": {
      "image/png": "[encoded data removed]",
      "text/plain": [
       "<Figure size 864x432 with 1 Axes>"
      ]
     },
     "metadata": {
      "needs_background": "light"
     },
     "output_type": "display_data"
    },
    {
     "data": {
      "image/png": "[encoded data removed]",
      "text/plain": [
       "<Figure size 864x432 with 1 Axes>"
      ]
     },
     "metadata": {
      "needs_background": "light"
     },
     "output_type": "display_data"
    }
   ],
   "source": [
    "# bar plot for weather conditions\n",
    "create_bar_plot(df1, 'Weather Conditions')\n",
    "# bar plot for Gender\n",
    "create_bar_plot(df1, 'Gender')"
   ]
  },
  {
   "cell_type": "code",
   "execution_count": null,
   "metadata": {},
   "outputs": [],
   "source": []
  },
  {
   "cell_type": "code",
   "execution_count": null,
   "metadata": {},
   "outputs": [],
   "source": []
  }
 ],
 "metadata": {
  "kernelspec": {
   "display_name": "Python 3",
   "language": "python",
   "name": "python3"
  },
  "language_info": {
   "codemirror_mode": {
    "name": "ipython",
    "version": 3
   },
   "file_extension": ".py",
   "mimetype": "text/x-python",
   "name": "python",
   "nbconvert_exporter": "python",
   "pygments_lexer": "ipython3",
   "version": "3.8.5"
  }
 },
 "nbformat": 4,
 "nbformat_minor": 4
}
