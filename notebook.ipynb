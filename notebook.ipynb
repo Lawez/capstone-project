{
 "cells": [
  {
   "cell_type": "markdown",
   "metadata": {},
   "source": [
    "\n",
    "## Project overview\n",
    "Healthcare is vital for individuals and society, as it promotes well-being, prevents diseases,promoting health equity and many more.\n",
    "\n",
    "This  project is crucial for creating healthier societies and fostering a culture of proactive health management.\n",
    "\n",
    "## Business understanding\n",
    "#### Problem statement\n",
    "Develop a recommendetion system for exercise intensity that provides personalized recommendations on appropriate workout intensities based on individual characteristics, including age, gender, BMI, exercise duration, heart rate, calories burned, weather conditions, and desired weight goals. The goal is to guide individuals in selecting exercise intensities that optimize their fitness outcomes, taking into account their specific attributes and preferences.\n",
    "#### Business Understanding\n",
    "In today's thriving fitness and wellness industry, the development of a recommender system for exercise intensity presents valuable business opportunities. Fitness centers, gyms, and personal trainers can leverage this system to offer tailored workout programs that align with individual goals, preferences, and fitness levels, ultimately attracting and retaining members. Wellness apps and platforms can integrate the recommender system to deliver personalized exercise recommendations, enhancing the user experience and setting them apart from competitors. Healthcare providers can utilize the system to promote physical activity as a means of disease prevention and management, while corporate wellness programs can leverage it to support employee well-being and productivity. By incorporating an exercise intensity recommender system, businesses can optimize workout effectiveness, increase customer satisfaction, and differentiate their offerings in a competitive market.\n",
    "\n",
    "#### Objectives\n",
    "Overall Objective: Develop a Recommender System for Personalized Exercise Intensity\n",
    "\n",
    "1. To personalize exercise intensity recommendations. Build a recommendation system based on individual characteristics such as age, gender, body mass index (BMI), exercise duration, heart rate, calories burned, weather conditions, and desired weight goals.\n",
    "2. Develop a model that can predict the optimal exercise intensity for a given individual. \n",
    "3. Identify the factors that contribute to optimal exercise intensity.\n",
    "4. To develop a recommender system that can dynamically adjust exercise intensity recommendations based on changing weather conditions. The system should consider the impact of different weather conditions on workout performance and suggest appropriate exercise intensities accordingly"
   ]
  },
  {
   "cell_type": "markdown",
   "metadata": {},
   "source": [
    "## Data Understanding"
   ]
  },
  {
   "cell_type": "code",
   "execution_count": null,
   "metadata": {},
   "outputs": [],
   "source": [
    "import pandas as pd\n",
    "import numpy as np\n",
    "import matplotlib.pyplot as plt\n",
    "import seaborn as sns\n",
    "import phik\n",
    "from sklearn.model_selection import train_test_split, cross_val_score, RandomizedSearchCV, GridSearchCV\n",
    "from sklearn.metrics import mean_squared_error\n",
    "from sklearn.preprocessing import OrdinalEncoder, Normalizer\n",
    "from sklearn.impute import SimpleImputer\n",
    "from sklearn.compose import ColumnTransformer\n",
    "from sklearn.pipeline import Pipeline\n",
    "from sklearn.neighbors import KNeighborsRegressor\n",
    "from sklearn.tree import DecisionTreeRegressor\n",
    "from sklearn.ensemble import RandomForestRegressor, GradientBoostingRegressor"
   ]
  },
  {
   "cell_type": "code",
   "execution_count": null,
   "metadata": {
    "scrolled": true
   },
   "outputs": [],
   "source": [
    "df1 = pd.read_csv('exercise_datasett.csv')\n",
    "df1"
   ]
  },
  {
   "cell_type": "code",
   "execution_count": null,
   "metadata": {},
   "outputs": [],
   "source": [
    "df1.drop('ID',axis=1,inplace=True)\n",
    "df1"
   ]
  },
  {
   "cell_type": "code",
   "execution_count": null,
   "metadata": {},
   "outputs": [],
   "source": [
    "#import pandas as pd\n",
    "#from pandas_profiling import ProfileReport\n",
    "\n",
    "# Load the dataset\n",
    "#data = pd.read_csv('exercise_datasett.csv')\n",
    "\n",
    "# Generate the profile report\n",
    "#profile = ProfileReport(data)\n",
    "\n",
    "# Save the report to an HTML file\n",
    "#profile.to_file('report.html')\n"
   ]
  },
  {
   "cell_type": "code",
   "execution_count": null,
   "metadata": {},
   "outputs": [],
   "source": [
    "# A function to print the shape of our datasets\n",
    "def print_dataset_shape(*datasets):\n",
    "    \"\"\"\n",
    "    Prints the shape of one or more datasets (number of rows and columns).\n",
    "    Assumes datasets are in a Pandas DataFrame format.\n",
    "    \"\"\"\n",
    "    for idx, dataset in enumerate(datasets):\n",
    "        print(f\"Dataset {idx + 1} - Number of rows: {dataset.shape[0]}\")\n",
    "        print(f\"Dataset {idx + 1} - Number of columns: {dataset.shape[1]}\")\n",
    "# print the shape of our dataset\n",
    "print_dataset_shape(df1)"
   ]
  },
  {
   "cell_type": "code",
   "execution_count": null,
   "metadata": {},
   "outputs": [],
   "source": [
    "# Function to display the head of our datasets\n",
    "def display_data_head(df1):\n",
    "    dfs = [df1.head()]\n",
    "    df_names = [\"data\"]\n",
    "    for df, name in zip(dfs, df_names): \n",
    "        print(f\"\\n{name}:\\n\")\n",
    "        display(df)\n",
    "# Display the head of our datasets\n",
    "display_data_head(df1)"
   ]
  },
  {
   "cell_type": "code",
   "execution_count": null,
   "metadata": {},
   "outputs": [],
   "source": [
    "#checking info of data\n",
    "df1.info()"
   ]
  },
  {
   "cell_type": "code",
   "execution_count": null,
   "metadata": {},
   "outputs": [],
   "source": [
    "# A function to check for duplicates in our datasets\n",
    "def check_duplicates(df):\n",
    "    \"\"\"\n",
    "    This function checks for and returns any duplicates in a given dataframe.\n",
    "    \"\"\"\n",
    "    duplicates = df[df.duplicated()]\n",
    "    if duplicates.shape[0] == 0:\n",
    "        print(\"No duplicates found in the dataset\")\n",
    "    else:\n",
    "        print(\"Duplicates found in the dataset:\")\n",
    "        return duplicates\n",
    "# Calling for the function to check for duplicates\n",
    "check_duplicates(df1)"
   ]
  },
  {
   "cell_type": "code",
   "execution_count": null,
   "metadata": {},
   "outputs": [],
   "source": [
    "df1.columns"
   ]
  },
  {
   "cell_type": "markdown",
   "metadata": {},
   "source": [
    "### Missing Values"
   ]
  },
  {
   "cell_type": "code",
   "execution_count": null,
   "metadata": {},
   "outputs": [],
   "source": [
    "# A function to check for missing values in our dataset\n",
    "def check_missing_values(data):\n",
    "    # Count missing values in each column\n",
    "    missing_values = data.isnull().sum()\n",
    "\n",
    "    # Convert missing values count to percentage of total rows\n",
    "    missing_percent = (missing_values / len(data)) * 100\n",
    "\n",
    "    # Combine the missing values count and percent into a DataFrame\n",
    "    missing_df = pd.concat([missing_values, missing_percent], axis=1)\n",
    "    missing_df.columns = ['Missing Values', '% of Total']\n",
    "# Return only columns with missing values\n",
    "    missing_df = missing_df[missing_df['Missing Values'] > 0]\n",
    "\n",
    "    return missing_df\n",
    "\n",
    "# Check missing values in each dataset\n",
    "display(check_missing_values(df1))"
   ]
  },
  {
   "cell_type": "markdown",
   "metadata": {},
   "source": [
    "Calories Burn, Dream Weight, Actual Weight, Duration,Heart Rate,Age, BMI, contains missing values and we will fill them."
   ]
  },
  {
   "cell_type": "markdown",
   "metadata": {},
   "source": [
    "### Data Preparation"
   ]
  },
  {
   "cell_type": "code",
   "execution_count": null,
   "metadata": {},
   "outputs": [],
   "source": [
    "df1['Calories Burn'].ffill(inplace=True)\n",
    "df1['Dream Weight'].bfill(inplace=True)\n",
    "df1['Actual Weight'].ffill(inplace=True)\n",
    "df1['Duration'].bfill(inplace=True)\n",
    "df1['Heart Rate'].ffill(inplace=True)\n",
    "df1['Age'].bfill(inplace=True)\n",
    "df1['BMI'].ffill(inplace=True)"
   ]
  },
  {
   "cell_type": "markdown",
   "metadata": {},
   "source": [
    "Gender and Weather condition will use foward fill respectively"
   ]
  },
  {
   "cell_type": "code",
   "execution_count": null,
   "metadata": {},
   "outputs": [],
   "source": [
    "df1['Gender'].ffill(inplace=True)\n",
    "df1['Weather Conditions'].ffill(inplace=True)\n",
    "df1['Exercise Intensity'].ffill(inplace=True)\n"
   ]
  },
  {
   "cell_type": "code",
   "execution_count": null,
   "metadata": {},
   "outputs": [],
   "source": [
    "# Check missing values in each dataset\n",
    "display(check_missing_values(df1))"
   ]
  },
  {
   "cell_type": "markdown",
   "metadata": {},
   "source": [
    "### Outliers"
   ]
  },
  {
   "cell_type": "code",
   "execution_count": null,
   "metadata": {},
   "outputs": [],
   "source": [
    "cols = ['Calories Burn', 'Dream Weight', 'Actual Weight', 'Age', 'Duration', 'Heart Rate', 'BMI', 'Exercise Intensity']"
   ]
  },
  {
   "cell_type": "code",
   "execution_count": null,
   "metadata": {},
   "outputs": [],
   "source": [
    "def remove_outliers(df, columns, threshold=3):\n",
    "    \n",
    "    df_cleaned = df.copy()  # Create a copy of the DataFrame\n",
    "    \n",
    "    for column in columns:\n",
    "        z_scores = (df[column] - df[column].mean()) / df[column].std()  # Calculate Z-scores\n",
    "        outliers = df_cleaned.loc[abs(z_scores) > threshold]  # Find outliers based on threshold\n",
    "        df_cleaned = df_cleaned.drop(outliers.index)  # Remove outliers from the DataFrame\n",
    "    \n",
    "    return df_cleaned\n",
    "\n",
    "\n",
    "# Specify the columns to remove outliers from\n",
    "columns_to_remove_outliers = cols\n",
    "\n",
    "# Remove outliers from the DataFrame\n",
    "df_cleaned = remove_outliers(df1, columns_to_remove_outliers)\n",
    "\n",
    "# Plot box plots for the cleaned DataFrame\n",
    "plt.figure(figsize=(10, 8))\n",
    "for i, column in enumerate(columns_to_remove_outliers):\n",
    "    plt.subplot(len(columns_to_remove_outliers)//2 + len(columns_to_remove_outliers)%2, 2, i+1)\n",
    "    sns.boxplot(data=df_cleaned, x=column)\n",
    "    plt.title(f\"{column} Distribution\")\n",
    "plt.tight_layout()\n",
    "plt.show()"
   ]
  },
  {
   "cell_type": "code",
   "execution_count": null,
   "metadata": {},
   "outputs": [],
   "source": []
  },
  {
   "cell_type": "markdown",
   "metadata": {},
   "source": [
    "### Feature Engineering"
   ]
  },
  {
   "cell_type": "code",
   "execution_count": null,
   "metadata": {},
   "outputs": [],
   "source": [
    "# check the unique variables for each category.\n",
    "for col in df1.columns:\n",
    "    print('\\n' + col + '\\n')\n",
    "    print(df1[col].value_counts())"
   ]
  },
  {
   "cell_type": "code",
   "execution_count": null,
   "metadata": {},
   "outputs": [],
   "source": [
    "df2 = df1[['Age','Duration','BMI','Calories Burn']].copy()\n",
    "df2"
   ]
  },
  {
   "cell_type": "code",
   "execution_count": null,
   "metadata": {},
   "outputs": [],
   "source": [
    "# Function to map BMI values to weight categories\n",
    "def BMI(BMI):\n",
    "    if BMI < 18.5:\n",
    "        return 'Underweight'\n",
    "    elif 18.5 <= BMI < 24.9:\n",
    "        return 'Normal weight'\n",
    "    elif 24.9 <= BMI < 29.9:\n",
    "        return 'Overweight'\n",
    "    elif 29.9 <= BMI < 34.9:\n",
    "        return 'Obesity class I'\n",
    "    elif 34.9 <= BMI < 39.9:\n",
    "        return 'Obesity class II'\n",
    "    else:\n",
    "        return 'Obesity class III'\n",
    "\n",
    "# Apply the categorize_bmi function to the 'BMI' column to create a new column representing weight categories\n",
    "df2['Weight Category'] = df2['BMI'].apply(BMI)\n"
   ]
  },
  {
   "cell_type": "code",
   "execution_count": null,
   "metadata": {},
   "outputs": [],
   "source": [
    "# Function to map Duration values to duration categories\n",
    "def Duration(Duration):\n",
    "    if 18 <= Duration <=26:\n",
    "        return '19-26 minutes'\n",
    "    elif 27 <= Duration <=34:\n",
    "        return '27-34 minutes'\n",
    "    elif 35 <= Duration <=42:\n",
    "        return '35-42 minutes'\n",
    "    elif 43 <= Duration <=50:\n",
    "        return '43-50 minutes'\n",
    "    elif 51 <= Duration <=58:\n",
    "        return '51-58 minutes'\n",
    "    elif Duration >= 58:\n",
    "        return '58 minutes and above'\n",
    "\n",
    "# Apply the Duration_Category function to the 'Duration' column to create a new column representing duration categories\n",
    "df2['minute duration'] = df2['Duration'].apply(Duration)\n"
   ]
  },
  {
   "cell_type": "code",
   "execution_count": null,
   "metadata": {},
   "outputs": [],
   "source": [
    "# Function to map Duration values to duration categories\n",
    "def Age(Age):\n",
    "    if 18 <= Age<=25:\n",
    "        return '18-25'\n",
    "    elif 26 <= Age <=33:\n",
    "        return '26-33'\n",
    "    elif 34 <= Age <=41:\n",
    "        return '34-41'\n",
    "    elif 42 <= Age <=49:\n",
    "        return '43-50'\n",
    "    elif 50 <= Age <=57:\n",
    "        return '50-57'\n",
    "    elif Age >= 58:\n",
    "        return 'Age 58 and above'\n",
    "\n",
    "# Apply the Duration_Category function to the 'Duration' column to create a new column representing duration categories\n",
    "df2['Age group'] = df2['Age'].apply(Age)\n"
   ]
  },
  {
   "cell_type": "code",
   "execution_count": null,
   "metadata": {},
   "outputs": [],
   "source": [
    "# Function to map Duration values to duration categories\n",
    "def Calories_Burn(Calories_Burn):\n",
    "    if 100<= Calories_Burn<=200.999999:\n",
    "        return '100-200'\n",
    "    elif 201 <= Calories_Burn<=300.999999:\n",
    "        return '201-300'\n",
    "    elif 301 <= Calories_Burn<=400.999999:\n",
    "        return '301-400'\n",
    "    elif 401 <= Calories_Burn<=500:\n",
    "        return '401-500'        \n",
    "    \n",
    "\n",
    "# Apply the Duration_Category function to the 'Duration' column to create a new column representing duration categories\n",
    "df2['Calories group'] = df2['Calories Burn'].apply(Calories_Burn)\n"
   ]
  },
  {
   "cell_type": "code",
   "execution_count": null,
   "metadata": {},
   "outputs": [],
   "source": [
    "# Check missing values in each dataset\n",
    "display(check_missing_values(df2))"
   ]
  },
  {
   "cell_type": "code",
   "execution_count": null,
   "metadata": {},
   "outputs": [],
   "source": [
    "df2"
   ]
  },
  {
   "cell_type": "code",
   "execution_count": null,
   "metadata": {},
   "outputs": [],
   "source": [
    "df2.describe()"
   ]
  },
  {
   "cell_type": "markdown",
   "metadata": {},
   "source": [
    "### Exploratory Data Analysis"
   ]
  },
  {
   "cell_type": "markdown",
   "metadata": {},
   "source": [
    "#### Age Distribution Analysis"
   ]
  },
  {
   "cell_type": "code",
   "execution_count": null,
   "metadata": {},
   "outputs": [],
   "source": [
    "plt.figure(figsize=(12,8))\n",
    "# create a countplot\n",
    "sns.countplot(y='Age group',order=df2['Age group'].value_counts().index[0:10], data=df2)\n",
    "plt.title('Age distribution'); "
   ]
  },
  {
   "cell_type": "markdown",
   "metadata": {},
   "source": [
    "Younger individuals exercise more due to higher energy levels, better physical capabilities, and prioritizing health and appearance. Societal trends and peer influence, flexible schedules, and the recognition of long-term health benefits contribute to their active participation in physical activities.\n",
    "\n",
    "As we age, there are gradual changes that occur in our bodies, particularly in relation to our bones and muscles. Our bones begin to experience a gradual loss of calcium and other minerals, leading to decreased bone density. This makes our skeleton less resilient and more susceptible to fractures and injuries.\n",
    "This contributes to a gradual decline in muscle mass and overall strength. As a result, the body becomes less robust and may experience difficulties in performing physical tasks that were once easier."
   ]
  },
  {
   "cell_type": "markdown",
   "metadata": {},
   "source": [
    "#### Duration distribution in minutes."
   ]
  },
  {
   "cell_type": "code",
   "execution_count": null,
   "metadata": {},
   "outputs": [],
   "source": [
    "plt.figure(figsize=(12, 8))\n",
    "# create a countplot\n",
    "sns.countplot(x='minute duration', order=df2['minute duration'].value_counts().iloc[:10].index, data=df2)\n",
    "plt.title('Duration Distribution')\n",
    "plt.xticks(rotation=90)  # Rotate the x-axis labels by 90 degrees\n",
    "plt.show();"
   ]
  },
  {
   "cell_type": "markdown",
   "metadata": {},
   "source": [
    "The most frequent duration was 19-50 minutes, the highest duration being 19-26 minutes with a mean of 35-42 minutes.\n"
   ]
  },
  {
   "cell_type": "markdown",
   "metadata": {},
   "source": [
    "Distribution f weather conditions"
   ]
  },
  {
   "cell_type": "code",
   "execution_count": null,
   "metadata": {},
   "outputs": [],
   "source": [
    "df1['Weather Conditions'].value_counts()"
   ]
  },
  {
   "cell_type": "code",
   "execution_count": null,
   "metadata": {},
   "outputs": [],
   "source": [
    "plt.figure(figsize=(10, 6))\n",
    "sns.countplot(x='Weather Conditions', data=df1)\n",
    "plt.xlabel('Weather Conditions')\n",
    "plt.ylabel('Count')\n",
    "plt.title('Distribution of Weather Conditions')\n",
    "plt.show()"
   ]
  },
  {
   "cell_type": "markdown",
   "metadata": {},
   "source": [
    "The weather condition counts are almost equal."
   ]
  },
  {
   "cell_type": "markdown",
   "metadata": {},
   "source": [
    "#### Actual Weight and Dream Weight Analysis: Exploring Weight Goals and Aspirations"
   ]
  },
  {
   "cell_type": "code",
   "execution_count": null,
   "metadata": {},
   "outputs": [],
   "source": [
    "plt.plot(df1.groupby(by='Age').mean().index,df1.groupby(by='Age').mean().iloc[:,1],label='Actual Weight')\n",
    "plt.plot(df1.groupby(by='Age').mean().index,df1.groupby(by='Age').mean().iloc[:,2],color='r',label='Dream Weight')\n",
    "plt.xlabel('Age')\n",
    "plt.ylabel('Mean Values')\n",
    "plt.legend()\n",
    "plt.show()"
   ]
  },
  {
   "cell_type": "markdown",
   "metadata": {},
   "source": [
    "Trend in Actual Weight: The plot shows an increasing trend in actual weight as age group increases. On average, individuals tend to have higher actual weight as they get older.\n",
    "\n",
    "Trend in Dream Weight: The plot indicates that dream weight values vary across age groups. There isn't a clear trend of increasing or decreasing dream weight with age.\n",
    "\n",
    "Comparing Actual and Dream Weight: The plot reveals that, on average, individuals tend to have higher actual weight than their desired or dream weight across age groups."
   ]
  },
  {
   "cell_type": "code",
   "execution_count": null,
   "metadata": {},
   "outputs": [],
   "source": [
    "plt.scatter(df1.groupby(by='Exercise').mean().iloc[:,0], df1.groupby(by='Exercise').mean().iloc[:,2],  color='green',marker='o')\n",
    "plt.xlabel(\"Mean Calories Burn by Exercise\")\n",
    "plt.ylabel(\"Mean Actual Weight by Exercise\")\n",
    "plt.title('Calories Burn and Actual Weight Relation')\n",
    "plt.show()"
   ]
  },
  {
   "cell_type": "markdown",
   "metadata": {},
   "source": [
    "There is a noticeable relationship between calories burned and actual weight based on exercise type. As the mean calories burned increase, there is a tendency for the mean actual weight to decrease. This suggests that exercises with higher calorie burn tend to be associated with lower mean actual weight.\n",
    "The scatter plot shows a general negative trend between calories burned and actual weight, indicating that individuals who burn more calories during exercise tend to have lower mean actual weight."
   ]
  },
  {
   "cell_type": "markdown",
   "metadata": {},
   "source": [
    "Exploring the Relationship between Actual Weight and Age, with gender variation."
   ]
  },
  {
   "cell_type": "code",
   "execution_count": null,
   "metadata": {},
   "outputs": [],
   "source": [
    "# Create a custom color palette for genders\n",
    "gender_palette = {\"Female\": \"red\", \"Male\": \"blue\"}\n",
    "\n",
    "# Create the scatter plot\n",
    "ssp = sns.scatterplot(data=df1.head(50), x=\"Age\", y=\"Actual Weight\", hue=\"Gender\", palette=gender_palette, style=None)\n",
    "\n",
    "# Remove the exercise markings\n",
    "ssp.get_legend().remove()\n",
    "\n",
    "# Add a custom legend for genders\n",
    "legend_handles = [plt.Line2D([], [], marker='o', color='w', markerfacecolor=color, markersize=8) for color in gender_palette.values()]\n",
    "plt.legend(legend_handles, gender_palette.keys(), title='Gender', loc='upper left')\n",
    "\n",
    "# Set the title\n",
    "plt.title(\"Actual Weight to Age\")\n",
    "\n",
    "# Show the plot\n",
    "plt.show()"
   ]
  },
  {
   "cell_type": "code",
   "execution_count": null,
   "metadata": {},
   "outputs": [],
   "source": [
    "# Create the scatter plot\n",
    "ssp = sns.scatterplot(data=df1.head(50), x=\"Age\", y=\"Actual Weight\", hue=\"Exercise\")\n",
    "\n",
    "# Remove the legend title\n",
    "ssp.get_legend().set_title('')\n",
    "\n",
    "# Set the title\n",
    "plt.title(\"Actual Weight to Age\")\n",
    "\n",
    "# Move the legend outside the plot\n",
    "ssp.legend(loc='center left', bbox_to_anchor=(1, 0.5))\n",
    "\n",
    "# Show the plot\n",
    "plt.show()"
   ]
  },
  {
   "cell_type": "markdown",
   "metadata": {},
   "source": [
    "We can observe a general trend where as age increases, there is a tendency for actual weight to increase as well. This is evident by the overall upward trend of the data points.\n",
    "There is no clear association between exercise type and actual weight based on the scatter plot."
   ]
  },
  {
   "cell_type": "markdown",
   "metadata": {},
   "source": [
    "How does weather condition affect Exercise Intensity?"
   ]
  },
  {
   "cell_type": "code",
   "execution_count": null,
   "metadata": {},
   "outputs": [],
   "source": [
    "# Create a bar plot of exercise intensity by weather conditions\n",
    "plt.figure(figsize=(20, 8))\n",
    "sns.countplot(x='Weather Conditions', hue='Exercise Intensity', data=df1)\n",
    "plt.xlabel('Weather Conditions')\n",
    "plt.ylabel('Count')\n",
    "plt.title('Exercise Intensity by Weather Conditions')\n",
    "plt.legend(title='Exercise Intensity')\n",
    "plt.show()"
   ]
  },
  {
   "cell_type": "markdown",
   "metadata": {},
   "source": [
    "Sunny Weather Conditions:\n",
    "\n",
    "Moderate Intensity: The most common exercise intensity level during sunny weather is moderate.\n",
    "Low Intensity: There are fewer exercise sessions at a low intensity during sunny weather compared to moderate intensity.\n",
    "\n",
    "Rainy Weather Conditions:\n",
    "Low Intensity: The count of low-intensity exercises is higher during rainy weather.\n",
    "High Intensity: There are fewer high-intensity exercises during rainy weather.\n",
    "\n",
    "Cloudy Weather Conditions:\n",
    "\n",
    "Moderate Intensity: The majority of exercise sessions during cloudy weather are at a moderate intensity level.\n",
    "Low and High Intensity: The count of low and high-intensity exercises during cloudy weather may vary.\n",
    "Overall Observations:\n",
    "\n",
    "Different Weather, Different Intensities: Each weather condition shows a different distribution of exercise intensity levels.\n",
    "Weather Influence: Weather conditions may influence exercise intensity preferences and choices."
   ]
  },
  {
   "cell_type": "markdown",
   "metadata": {},
   "source": [
    "* Comparison of Mean Dream Weight and Actual Weight Across Age Groups"
   ]
  },
  {
   "cell_type": "code",
   "execution_count": null,
   "metadata": {},
   "outputs": [],
   "source": [
    "plt.figure(figsize=(12, 8))  # Set the figure size to 12 inches (width) by 8 inches (height)\n",
    "plt.bar(df1.groupby(by='Age').mean().index, df1.groupby(by='Age').mean().iloc[:,1], label='Dream Weight')\n",
    "plt.bar(df1.groupby(by='Age').mean().index, df1.groupby(by='Age').mean().iloc[:,2], color='darkred', label='Actual Weight', bottom=df1.groupby(by='Age').mean().iloc[:,1])\n",
    "plt.xlabel('Age')\n",
    "plt.ylabel('Mean Values')\n",
    "plt.legend()\n",
    "plt.show()"
   ]
  },
  {
   "cell_type": "markdown",
   "metadata": {},
   "source": [
    "Across all age groups, the graph illustrates that the mean actual weight exceeds the mean dream weight. This suggests that individuals in the dataset, regardless of their age, generally have higher actual weights compared to their desired or ideal weights."
   ]
  },
  {
   "cell_type": "markdown",
   "metadata": {},
   "source": [
    "Is there a relationship or association between age group and exercise intensity?"
   ]
  },
  {
   "cell_type": "code",
   "execution_count": null,
   "metadata": {
    "scrolled": true
   },
   "outputs": [],
   "source": [
    "# Create a contingency table for Age Group and Exercise Intensity\n",
    "contingency_table = pd.crosstab(df2['Age group'], df1['Exercise Intensity'])\n",
    "\n",
    "# Print the contingency table\n",
    "contingency_table"
   ]
  },
  {
   "cell_type": "code",
   "execution_count": null,
   "metadata": {},
   "outputs": [],
   "source": [
    "# Create a heatmap of the contingency table with colors\n",
    "sns.heatmap(contingency_table, cmap='YlGnBu')\n",
    "\n",
    "# Add labels and title\n",
    "plt.xlabel('Exercise Intensity')\n",
    "plt.ylabel('Age group')\n",
    "plt.title('Contingency Table: Age group vs Exercise Intensity')\n",
    "\n",
    "# Show the plot\n",
    "plt.show()"
   ]
  },
  {
   "cell_type": "markdown",
   "metadata": {},
   "source": [
    "* There is a higher concentration of individuals in the age group \"18-25\" with exercise intensity levels 1.0, 2.0, and 3.0.\n",
    "* The age group \"26-33\" shows a relatively even distribution across various exercise intensity levels.\n",
    "* The age groups \"34-41\" and \"43-50\" have a higher count of individuals with exercise intensity levels 1.0 and 2.0.\n",
    "* The age groups \"50-57\" and \"58 and above\" tend to have lower counts across all exercise intensity levels, indicating a  potentially lower participation in higher intensity exercises"
   ]
  },
  {
   "cell_type": "markdown",
   "metadata": {},
   "source": [
    "What is the distribution of heart rate base on different Age group?"
   ]
  },
  {
   "cell_type": "code",
   "execution_count": null,
   "metadata": {},
   "outputs": [],
   "source": [
    "# plt.figure(figsize=(10, 6))  # Increase the figure size\n",
    "# plt.bar(df2['Age group'], df1['Heart Rate'], width=0.6)  # Adjust the width of the bars\n",
    "# plt.xlabel('Age group')\n",
    "# plt.ylabel('Heart Rate')\n",
    "# plt.title('Age - Heart Rate Relation')\n",
    "# plt.show()"
   ]
  },
  {
   "cell_type": "code",
   "execution_count": null,
   "metadata": {},
   "outputs": [],
   "source": [
    "# plt.bar(df2['minute duration'],df1['Calories Burn'],width=0.3)\n",
    "# plt.xlabel('minute duration')\n",
    "# plt.ylabel(\"calories burn\")\n",
    "# plt.title('minute duration vs calories burned')\n",
    "# plt.show()"
   ]
  },
  {
   "cell_type": "code",
   "execution_count": null,
   "metadata": {},
   "outputs": [],
   "source": [
    "# plt.bar(df2['Weight Category'],df1['Age'],width=0.3)\n",
    "# plt.xlabel('Weight Category')\n",
    "# plt.ylabel(\"Age\")\n",
    "# plt.title('weight category vs age')\n",
    "# plt.show()"
   ]
  },
  {
   "cell_type": "code",
   "execution_count": null,
   "metadata": {},
   "outputs": [],
   "source": [
    "sns.pairplot(data = df1, height = 2); "
   ]
  },
  {
   "cell_type": "code",
   "execution_count": null,
   "metadata": {},
   "outputs": [],
   "source": [
    "#heatmap of the correlation matrix \n",
    "plt.subplots(figsize=(12,12))\n",
    "sns.heatmap(df1.corr(),annot=True)"
   ]
  },
  {
   "cell_type": "markdown",
   "metadata": {},
   "source": [
    "The darker the shade of blue, the stronger the positive correlation between the two variables, while the darker the shade of red, the stronger the negative correlation between the two variables. A value of 1 indicates a perfect positive correlation, a value of -1 indicates a perfect negative correlation, and a value of 0 indicates no correlation between the two variables."
   ]
  },
  {
   "cell_type": "markdown",
   "metadata": {},
   "source": [
    "* Calories Burn and BMI: The correlation coefficient is -0.096, indicating a negative correlation, suggesting that higher BMI values are associated with lower calorie burn.\n",
    "\n",
    "* Calories Burn and Actual Weight: The correlation coefficient is -0.11, indicating a negative correlation. This suggests that as actual weight increases, the calories burned tend to decrease.\n",
    "\n",
    "* Calories Burn and Duration: The correlation coefficient is 0.0096, indicating a weak positive correlation. This implies that there is a slight tendency for longer durations of exercise to result in higher calories burned.\n",
    "\n",
    "* Calories Burn and Heart Rate: The correlation coefficient is -0.088, indicating a negative correlation. This suggests that as heart rate increases, the calories burned tend to decrease.\n",
    "\n",
    "* Calories Burn and Exercise Intensity: The correlation coefficient is -0.0022, indicating a very weak negative correlation. This suggests that exercise intensity has a minimal effect on calories burned.\n",
    "\n",
    "* Actual Weight and BMI: The correlation coefficient is 0.15, indicating a positive correlation. This suggests that higher actual weight is associated with higher BMI values.\n",
    "\n",
    "* Actual Weight and Dream Weight: The correlation coefficient is 0.24, indicating a positive correlation. This suggests that there is a relationship between actual weight and desired/dream weight.\n",
    "\n",
    "* BMI and Duration: The correlation coefficient is -0.0048, indicating a very weak negative correlation. This suggests that there is a minimal relationship between BMI and exercise duration.\n",
    "\n",
    "* BMI and Heart Rate: The correlation coefficient is 0.13, indicating a positive correlation. This suggests that higher BMI values are associated with higher heart rates.\n",
    "\n",
    "* Duration and Heart Rate: The correlation coefficient is -0.0085, indicating a very weak negative correlation. This suggests that there is a minimal relationship between exercise duration and heart rate."
   ]
  },
  {
   "cell_type": "code",
   "execution_count": null,
   "metadata": {},
   "outputs": [],
   "source": []
  }
 ],
 "metadata": {
  "kernelspec": {
   "display_name": "Python 3 (ipykernel)",
   "language": "python",
   "name": "python3"
  },
  "language_info": {
   "codemirror_mode": {
    "name": "ipython",
    "version": 3
   },
   "file_extension": ".py",
   "mimetype": "text/x-python",
   "name": "python",
   "nbconvert_exporter": "python",
   "pygments_lexer": "ipython3",
   "version": "3.9.13"
  }
 },
 "nbformat": 4,
 "nbformat_minor": 4
}
